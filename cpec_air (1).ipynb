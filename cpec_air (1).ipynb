{
 "cells": [
  {
   "cell_type": "code",
   "execution_count": 43,
   "metadata": {},
   "outputs": [],
   "source": [
    "import pandas as pd\n",
    "import numpy as py\n"
   ]
  },
  {
   "cell_type": "code",
   "execution_count": 44,
   "metadata": {},
   "outputs": [
    {
     "data": {
      "text/plain": [
       "'C:\\\\Users\\\\Yahyah'"
      ]
     },
     "execution_count": 44,
     "metadata": {},
     "output_type": "execute_result"
    }
   ],
   "source": [
    "import os\n",
    "os.getcwd()"
   ]
  },
  {
   "cell_type": "code",
   "execution_count": 95,
   "metadata": {},
   "outputs": [],
   "source": [
    "file = pd.read_csv('doc1.csv')"
   ]
  },
  {
   "cell_type": "code",
   "execution_count": 96,
   "metadata": {},
   "outputs": [
    {
     "data": {
      "text/html": [
       "<div>\n",
       "<style scoped>\n",
       "    .dataframe tbody tr th:only-of-type {\n",
       "        vertical-align: middle;\n",
       "    }\n",
       "\n",
       "    .dataframe tbody tr th {\n",
       "        vertical-align: top;\n",
       "    }\n",
       "\n",
       "    .dataframe thead th {\n",
       "        text-align: right;\n",
       "    }\n",
       "</style>\n",
       "<table border=\"1\" class=\"dataframe\">\n",
       "  <thead>\n",
       "    <tr style=\"text-align: right;\">\n",
       "      <th></th>\n",
       "      <th>col1</th>\n",
       "    </tr>\n",
       "  </thead>\n",
       "  <tbody>\n",
       "    <tr>\n",
       "      <th>0</th>\n",
       "      <td>BEIJING: Nearly 40 geologists from China and P...</td>\n",
       "    </tr>\n",
       "    <tr>\n",
       "      <th>1</th>\n",
       "      <td>BEIJING: China on Friday said it is in touch w...</td>\n",
       "    </tr>\n",
       "    <tr>\n",
       "      <th>2</th>\n",
       "      <td>ISLAMABAD: Pakistan's Interior Minister Ahsan ...</td>\n",
       "    </tr>\n",
       "    <tr>\n",
       "      <th>3</th>\n",
       "      <td>WASHINGTON: China has both commercial and mili...</td>\n",
       "    </tr>\n",
       "    <tr>\n",
       "      <th>4</th>\n",
       "      <td>BEIJING: China on Tuesday asked the Pakistani ...</td>\n",
       "    </tr>\n",
       "    <tr>\n",
       "      <th>5</th>\n",
       "      <td>ISLAMABAD: India may target the installations ...</td>\n",
       "    </tr>\n",
       "    <tr>\n",
       "      <th>6</th>\n",
       "      <td>SINGAPORE: India should leave its bilateral di...</td>\n",
       "    </tr>\n",
       "    <tr>\n",
       "      <th>7</th>\n",
       "      <td>BEIJING: China said on Monday it is ready to d...</td>\n",
       "    </tr>\n",
       "    <tr>\n",
       "      <th>8</th>\n",
       "      <td>BEIJING: China today said it is ready to hold ...</td>\n",
       "    </tr>\n",
       "    <tr>\n",
       "      <th>9</th>\n",
       "      <td>BEIJING: India’s ambassador to China, Gautam B...</td>\n",
       "    </tr>\n",
       "    <tr>\n",
       "      <th>10</th>\n",
       "      <td>DAVOS: Pakistan has said Kashmir and Rohingya ...</td>\n",
       "    </tr>\n",
       "    <tr>\n",
       "      <th>11</th>\n",
       "      <td>BEIJING: China on Monday said it is \\n\\n   opp...</td>\n",
       "    </tr>\n",
       "    <tr>\n",
       "      <th>12</th>\n",
       "      <td>ISLAMABAD: Pakistan today rejected as \"propaga...</td>\n",
       "    </tr>\n",
       "    <tr>\n",
       "      <th>13</th>\n",
       "      <td>BEIJING: China came out forcefully in defence ...</td>\n",
       "    </tr>\n",
       "    <tr>\n",
       "      <th>14</th>\n",
       "      <td>BEIJING: China on Tuesday defended Pakistan sa...</td>\n",
       "    </tr>\n",
       "    <tr>\n",
       "      <th>15</th>\n",
       "      <td>BEIJING: China will have a \"say\" on all major ...</td>\n",
       "    </tr>\n",
       "    <tr>\n",
       "      <th>16</th>\n",
       "      <td>KARACHI: Pakistan has accused India of using A...</td>\n",
       "    </tr>\n",
       "    <tr>\n",
       "      <th>17</th>\n",
       "      <td>BEIJING: China on Wednesday said that its ambi...</td>\n",
       "    </tr>\n",
       "    <tr>\n",
       "      <th>18</th>\n",
       "      <td>ISLAMABAD: Pakistan's security czar today said...</td>\n",
       "    </tr>\n",
       "    <tr>\n",
       "      <th>19</th>\n",
       "      <td>NEW DELHI: China has halted the release of fun...</td>\n",
       "    </tr>\n",
       "    <tr>\n",
       "      <th>20</th>\n",
       "      <td>ISLAMABAD: China has halted the release of fun...</td>\n",
       "    </tr>\n",
       "    <tr>\n",
       "      <th>21</th>\n",
       "      <td>NEW DELHI: Sushma Swaraj met Wang Yi for bilat...</td>\n",
       "    </tr>\n",
       "    <tr>\n",
       "      <th>22</th>\n",
       "      <td>NEW DELHI: Russia on Monday pitched for India ...</td>\n",
       "    </tr>\n",
       "    <tr>\n",
       "      <th>23</th>\n",
       "      <td>NEW DELHI: Beijing's \"new guidelines\" overseei...</td>\n",
       "    </tr>\n",
       "    <tr>\n",
       "      <th>24</th>\n",
       "      <td>ISLAMABAD: China has halted funding of at leas...</td>\n",
       "    </tr>\n",
       "    <tr>\n",
       "      <th>25</th>\n",
       "      <td>ISLAMABAD: China has decided to temporarily st...</td>\n",
       "    </tr>\n",
       "    <tr>\n",
       "      <th>26</th>\n",
       "      <td>BEIJING: China on Monday termed the $50 billio...</td>\n",
       "    </tr>\n",
       "    <tr>\n",
       "      <th>27</th>\n",
       "      <td>WASHINGTON: The multi-billion dollar China- Pa...</td>\n",
       "    </tr>\n",
       "    <tr>\n",
       "      <th>28</th>\n",
       "      <td>NEW DELHI: Balochistan nationalist leader Mehr...</td>\n",
       "    </tr>\n",
       "    <tr>\n",
       "      <th>29</th>\n",
       "      <td>BEIJING: The Chinese foreign ministry on Thurs...</td>\n",
       "    </tr>\n",
       "  </tbody>\n",
       "</table>\n",
       "</div>"
      ],
      "text/plain": [
       "                                                 col1\n",
       "0   BEIJING: Nearly 40 geologists from China and P...\n",
       "1   BEIJING: China on Friday said it is in touch w...\n",
       "2   ISLAMABAD: Pakistan's Interior Minister Ahsan ...\n",
       "3   WASHINGTON: China has both commercial and mili...\n",
       "4   BEIJING: China on Tuesday asked the Pakistani ...\n",
       "5   ISLAMABAD: India may target the installations ...\n",
       "6   SINGAPORE: India should leave its bilateral di...\n",
       "7   BEIJING: China said on Monday it is ready to d...\n",
       "8   BEIJING: China today said it is ready to hold ...\n",
       "9   BEIJING: India’s ambassador to China, Gautam B...\n",
       "10  DAVOS: Pakistan has said Kashmir and Rohingya ...\n",
       "11  BEIJING: China on Monday said it is \\n\\n   opp...\n",
       "12  ISLAMABAD: Pakistan today rejected as \"propaga...\n",
       "13  BEIJING: China came out forcefully in defence ...\n",
       "14  BEIJING: China on Tuesday defended Pakistan sa...\n",
       "15  BEIJING: China will have a \"say\" on all major ...\n",
       "16  KARACHI: Pakistan has accused India of using A...\n",
       "17  BEIJING: China on Wednesday said that its ambi...\n",
       "18  ISLAMABAD: Pakistan's security czar today said...\n",
       "19  NEW DELHI: China has halted the release of fun...\n",
       "20  ISLAMABAD: China has halted the release of fun...\n",
       "21  NEW DELHI: Sushma Swaraj met Wang Yi for bilat...\n",
       "22  NEW DELHI: Russia on Monday pitched for India ...\n",
       "23  NEW DELHI: Beijing's \"new guidelines\" overseei...\n",
       "24  ISLAMABAD: China has halted funding of at leas...\n",
       "25  ISLAMABAD: China has decided to temporarily st...\n",
       "26  BEIJING: China on Monday termed the $50 billio...\n",
       "27  WASHINGTON: The multi-billion dollar China- Pa...\n",
       "28  NEW DELHI: Balochistan nationalist leader Mehr...\n",
       "29  BEIJING: The Chinese foreign ministry on Thurs..."
      ]
     },
     "execution_count": 96,
     "metadata": {},
     "output_type": "execute_result"
    }
   ],
   "source": [
    "file"
   ]
  },
  {
   "cell_type": "code",
   "execution_count": 55,
   "metadata": {},
   "outputs": [
    {
     "data": {
      "text/plain": [
       "<bound method DataFrame.info of                                                  col1\n",
       "0   BEIJING: Nearly 40 geologists from China and P...\n",
       "1   BEIJING: China on Friday said it is in touch w...\n",
       "2   ISLAMABAD: Pakistan's Interior Minister Ahsan ...\n",
       "3   WASHINGTON: China has both commercial and mili...\n",
       "4   BEIJING: China on Tuesday asked the Pakistani ...\n",
       "5   ISLAMABAD: India may target the installations ...\n",
       "6   SINGAPORE: India should leave its bilateral di...\n",
       "7   BEIJING: China said on Monday it is ready to d...\n",
       "8   BEIJING: China today said it is ready to hold ...\n",
       "9   BEIJING: India’s ambassador to China, Gautam B...\n",
       "10  DAVOS: Pakistan has said Kashmir and Rohingya ...\n",
       "11  BEIJING: China on Monday said it is \\n\\n   opp...\n",
       "12  ISLAMABAD: Pakistan today rejected as \"propaga...\n",
       "13  BEIJING: China came out forcefully in defence ...\n",
       "14  BEIJING: China on Tuesday defended Pakistan sa...\n",
       "15  BEIJING: China will have a \"say\" on all major ...\n",
       "16  KARACHI: Pakistan has accused India of using A...\n",
       "17  BEIJING: China on Wednesday said that its ambi...\n",
       "18  ISLAMABAD: Pakistan's security czar today said...\n",
       "19  NEW DELHI: China has halted the release of fun...\n",
       "20  ISLAMABAD: China has halted the release of fun...\n",
       "21  NEW DELHI: Sushma Swaraj met Wang Yi for bilat...\n",
       "22  NEW DELHI: Russia on Monday pitched for India ...\n",
       "23  NEW DELHI: Beijing's \"new guidelines\" overseei...\n",
       "24  ISLAMABAD: China has halted funding of at leas...\n",
       "25  ISLAMABAD: China has decided to temporarily st...\n",
       "26  BEIJING: China on Monday termed the $50 billio...\n",
       "27  WASHINGTON: The multi-billion dollar China- Pa...\n",
       "28  NEW DELHI: Balochistan nationalist leader Mehr...\n",
       "29  BEIJING: The Chinese foreign ministry on Thurs...>"
      ]
     },
     "execution_count": 55,
     "metadata": {},
     "output_type": "execute_result"
    }
   ],
   "source": [
    "file.info\n",
    "\n"
   ]
  },
  {
   "cell_type": "code",
   "execution_count": 2,
   "metadata": {},
   "outputs": [],
   "source": [
    "import nltk   \n",
    "from nltk.tokenize import RegexpTokenizer"
   ]
  },
  {
   "cell_type": "code",
   "execution_count": 106,
   "metadata": {},
   "outputs": [
    {
     "data": {
      "text/plain": [
       "0     BEIJING: Nearly 40 geologists from China and P...\n",
       "1     BEIJING: China on Friday said it is in touch w...\n",
       "2     ISLAMABAD: Pakistan's Interior Minister Ahsan ...\n",
       "3     WASHINGTON: China has both commercial and mili...\n",
       "4     BEIJING: China on Tuesday asked the Pakistani ...\n",
       "5     ISLAMABAD: India may target the installations ...\n",
       "6     SINGAPORE: India should leave its bilateral di...\n",
       "7     BEIJING: China said on Monday it is ready to d...\n",
       "8     BEIJING: China today said it is ready to hold ...\n",
       "9     BEIJING: India’s ambassador to China, Gautam B...\n",
       "10    DAVOS: Pakistan has said Kashmir and Rohingya ...\n",
       "11    BEIJING: China on Monday said it is \\n\\n   opp...\n",
       "12    ISLAMABAD: Pakistan today rejected as \"propaga...\n",
       "13    BEIJING: China came out forcefully in defence ...\n",
       "14    BEIJING: China on Tuesday defended Pakistan sa...\n",
       "15    BEIJING: China will have a \"say\" on all major ...\n",
       "16    KARACHI: Pakistan has accused India of using A...\n",
       "17    BEIJING: China on Wednesday said that its ambi...\n",
       "18    ISLAMABAD: Pakistan's security czar today said...\n",
       "19    NEW DELHI: China has halted the release of fun...\n",
       "20    ISLAMABAD: China has halted the release of fun...\n",
       "21    NEW DELHI: Sushma Swaraj met Wang Yi for bilat...\n",
       "22    NEW DELHI: Russia on Monday pitched for India ...\n",
       "23    NEW DELHI: Beijing's \"new guidelines\" overseei...\n",
       "24    ISLAMABAD: China has halted funding of at leas...\n",
       "25    ISLAMABAD: China has decided to temporarily st...\n",
       "26    BEIJING: China on Monday termed the $50 billio...\n",
       "27    WASHINGTON: The multi-billion dollar China- Pa...\n",
       "28    NEW DELHI: Balochistan nationalist leader Mehr...\n",
       "29    BEIJING: The Chinese foreign ministry on Thurs...\n",
       "Name: col1, dtype: object"
      ]
     },
     "execution_count": 106,
     "metadata": {},
     "output_type": "execute_result"
    }
   ],
   "source": [
    "file1=file.iloc[:,0:2]\n",
    "#file1\n",
    "file['col1']"
   ]
  },
  {
   "cell_type": "code",
   "execution_count": 3,
   "metadata": {},
   "outputs": [
    {
     "ename": "NameError",
     "evalue": "name 'file' is not defined",
     "output_type": "error",
     "traceback": [
      "\u001b[1;31m---------------------------------------------------------------------------\u001b[0m",
      "\u001b[1;31mNameError\u001b[0m                                 Traceback (most recent call last)",
      "\u001b[1;32m<ipython-input-3-84e017741bdd>\u001b[0m in \u001b[0;36m<module>\u001b[1;34m()\u001b[0m\n\u001b[0;32m      1\u001b[0m \u001b[0mtokenizer\u001b[0m \u001b[1;33m=\u001b[0m \u001b[0mRegexpTokenizer\u001b[0m\u001b[1;33m(\u001b[0m\u001b[1;34m\"[a-zA-Z'`éèî]+\"\u001b[0m\u001b[1;33m)\u001b[0m\u001b[1;33m\u001b[0m\u001b[0m\n\u001b[1;32m----> 2\u001b[1;33m \u001b[1;32mfor\u001b[0m \u001b[0mx\u001b[0m \u001b[1;32min\u001b[0m \u001b[0mfile\u001b[0m\u001b[1;33m[\u001b[0m\u001b[1;34m'h'\u001b[0m\u001b[1;33m]\u001b[0m\u001b[1;33m:\u001b[0m\u001b[1;33m\u001b[0m\u001b[0m\n\u001b[0m\u001b[0;32m      3\u001b[0m     \u001b[0mx\u001b[0m \u001b[1;33m=\u001b[0m \u001b[0mtokenizer\u001b[0m\u001b[1;33m.\u001b[0m\u001b[0mtokenize\u001b[0m\u001b[1;33m(\u001b[0m\u001b[0mx\u001b[0m\u001b[1;33m.\u001b[0m\u001b[0mdecode\u001b[0m\u001b[1;33m(\u001b[0m\u001b[1;34m\"utf8\"\u001b[0m\u001b[1;33m)\u001b[0m\u001b[1;33m)\u001b[0m\u001b[1;33m\u001b[0m\u001b[0m\n\u001b[0;32m      4\u001b[0m \u001b[1;33m\u001b[0m\u001b[0m\n\u001b[0;32m      5\u001b[0m \u001b[1;33m\u001b[0m\u001b[0m\n",
      "\u001b[1;31mNameError\u001b[0m: name 'file' is not defined"
     ]
    }
   ],
   "source": [
    "tokenizer = RegexpTokenizer(\"[a-zA-Z'`éèî]+\")\n",
    "for x in file['col1']:\n",
    "    \n",
    "    \n",
    "    \n",
    "    #print(x)\n",
    "    #print(type(x))\n",
    "     #x = tokenizer.tokenize(x.decode(\"utf8\"))"
   ]
  },
  {
   "cell_type": "code",
   "execution_count": 129,
   "metadata": {},
   "outputs": [
    {
     "name": "stdout",
     "output_type": "stream",
     "text": [
      "None\n"
     ]
    }
   ],
   "source": [
    "from sklearn.feature_extraction.text import CountVectorizer\n",
    "corpus = file['col1']\n",
    "vectorizer = CountVectorizer(analyzer = stem_text, stop_words = 'enlgish')\n",
    "X_counts = vectorizer.fit_transform(corpus)\n",
    "#print(X_counts)\n",
    "#X_counts.data \n",
    "\n",
    "#print(X_counts.shape)\n",
    "#print(vectorizer.get_feature_names())\n",
    "#print(X_counts.toarray())"
   ]
  },
  {
   "cell_type": "code",
   "execution_count": 118,
   "metadata": {},
   "outputs": [],
   "source": [
    "from nltk.stem import PorterStemmer\n",
    "ps = nltk.PorterStemmer()"
   ]
  },
  {
   "cell_type": "code",
   "execution_count": 119,
   "metadata": {},
   "outputs": [],
   "source": [
    "def stem_text(text):\n",
    "    text = \"\".join([word.lower() for word in text if word not in text])\n",
    "    text = [ps.stem(word) for word in filtered_text]    \n",
    "    return(text)"
   ]
  },
  {
   "cell_type": "code",
   "execution_count": 131,
   "metadata": {},
   "outputs": [
    {
     "name": "stdout",
     "output_type": "stream",
     "text": [
      "(30, 7691)\n",
      "['000 people', '08 billion', '085 billion', '10 years', '100 per', '110 km', '12 chinese', '1320 mw', '136 km', '14 billion', '15 billion', '15 years', '15th russia', '17 huang', '19 76', '1945 which', '1947 such', '1trillion pakistani', '20 and', '20 but', '20 years', '2005 he', '2014 when', '2015 when', '2016 17', '2016 in', '2016 the', '2017 the', '2018 to', '2018 trump', '2018 we', '2020 all', '2020 every', '210 km', '255 million', '26 reached', '26 trilateral', '29 the', '33 billion', '350 ship', '40 billion', '40 geologists', '40 researchers', '40 year', '400 km', '40th anniversary', '46 year', '50 billion', '51 08', '60 billion', '62 billion', '650 million', '66 billion', '6th joint', '70 years', '73 day', '76 billion', '81 billion', '90 per', '99 year', 'abbasi said', 'abducted 12', 'abdulla yameen', 'ability to', 'abolished and', 'abolished he', 'abolished the', 'about and', 'about chinese', 'about corruption', 'about cpec', 'about india', 'about indian', 'about it', 'about pakistan', 'about quadrilateral', 'about regional', 'about reports', 'about the', 'about this', 'about trump', 'about usd', 'academy of', 'accelerating improvement', 'accept chinese', 'access markets', 'access to', 'accordance with', 'according to', 'accused india', 'accused islamabad', 'accused it', 'accused the', 'accuses pakistan', 'accusing us', 'achieved through', 'achievement of', 'achievement our', 'achieving national', 'acknowledge its', 'acknowledge that', 'acknowledged that', 'acquired hambantota', 'acquired on', 'acquisition in', 'acquisition the', 'across all', 'across the', 'act against', 'acting on', 'action against', 'action do', 'action which', 'actions in', 'active threat', 'active zone', 'actively explore', 'actively fulfill', 'actively push', 'activities between', 'activities in', 'activity would', 'actual operations', 'actually china', 'added in', 'added she', 'added the', 'added with', 'adding that', 'adding to', 'adding we', 'addition real', 'addition the', 'additional obstacles', 'address at', 'address india', 'address numerous', 'address of', 'addressed at', 'addressing bri', 'addressing journalists', 'addressing press', 'addressing seminar', 'administration continues', 'administration for', 'administration is', 'administration official', 'administration was', 'admission said', 'admitted that', 'advance our', 'adverse winds', 'advisor lt', 'advocated for', 'affairs it', 'affairs minister', 'affairs of', 'affairs problems', 'affect china', 'affect our', 'affect over', 'affected include', 'affected the', 'affecting the', 'affiliated with', 'afghan led', 'afghan owned', 'afghan peace', 'afghanistan also', 'afghanistan america', 'afghanistan and', 'afghanistan are', 'afghanistan as', 'afghanistan asif', 'afghanistan at', 'afghanistan china', 'afghanistan for', 'afghanistan geng', 'afghanistan here', 'afghanistan in', 'afghanistan is', 'afghanistan jiwani', 'afghanistan khawaja', 'afghanistan lavrov', 'afghanistan pakistan', 'afghanistan peaceful', 'afghanistan political', 'afghanistan remains', 'afghanistan sparked', 'afghanistan to', 'afghanistan which', 'afghanistan with', 'africa and', 'africa china', 'afridi said', 'after addressing', 'after another', 'after beijing', 'after being', 'after inaugurating', 'after it', 'after receiving', 'after the', 'after us', 'after which', 'again and', 'again this', 'against china', 'against cpec', 'against each', 'against india', 'against islamabad', 'against terror', 'against terrorism', 'against terrorists', 'against the', 'agency reported', 'agency was', 'agenda sounding', 'agenda which', 'agents indian', 'agents israeli', 'agents russian', 'agents today', 'aggravate india', 'aggravate tension', 'agree to', 'agreed between', 'agreed on', 'agreed that', 'agreed to', 'agreed upon', 'agreement with', 'agriculture hua', 'ahead of', 'ahmed along', 'ahmed said', 'ahsan iqbal', 'aid he', 'aid over', 'aid package', 'aid to', 'aimed at', 'airing their', 'airspace china', 'ajit doval', 'akram inspector', 'al haj', 'al mirqab', 'al qaeda', 'alarmed by', 'align their', 'all baloch', 'all chinese', 'all disappointed', 'all fields', 'all forms', 'all major', 'all necessary', 'all neighbouring', 'all over', 'all propaganda', 'all relevant', 'all round', 'all rural', 'all the', 'all three', 'all tried', 'all weaher', 'all weather', 'allegations of', 'alleged corruption', 'alleged insinuation', 'alleged tacit', 'alleged that', 'alliance has', 'alliance to', 'alliance with', 'allow any', 'allow china', 'allow it', 'allow pharmaceutical', 'allowed us', 'allowing differences', 'allowing heavy', 'ally came', 'ally outstanding', 'almost all', 'alone to', 'along or', 'along the', 'along with', 'already acquired', 'already been', 'already deep', 'already formidable', 'already runs', 'already signed', 'also accused', 'also accuses', 'also agreed', 'also alleged', 'also among', 'also amongst', 'also an', 'also be', 'also been', 'also by', 'also called', 'also china', 'also close', 'also conducive', 'also emerged', 'also express', 'also frictions', 'also generates', 'also he', 'also in', 'also included', 'also incorporates', 'also india', 'also listed', 'also member', 'also mitigate', 'also need', 'also noted', 'also refused', 'also repeated', 'also said', 'also suspended', 'also take', 'also talked', 'also the', 'also took', 'also tried', 'also welcomes', 'alternative corridor', 'always be', 'always maintained', 'always opposed', 'am 100', 'am referring', 'ambassador had', 'ambassador in', 'ambassador to', 'ambitions to', 'ambitious 60', 'ambitious china', 'ambitious cpec', 'ambitious project', 'america frequently', 'america has', 'american sentiment', 'among asian', 'among other', 'among others', 'among over', 'among the', 'amongst the', 'an active', 'an address', 'an afghan', 'an agreement', 'an alliance', 'an alternative', 'an arms', 'an earthquake', 'an economic', 'an effort', 'an electoral', 'an estimated', 'an executive', 'an existing', 'an fta', 'an identical', 'an important', 'an independent', 'an interceptor', 'an interview', 'an official', 'an open', 'an upmarket', 'analysis puts', 'analysts here', 'analysts offer', 'and achieving', 'and actively', 'and afghan', 'and afghanistan', 'and aggravate', 'and agreed', 'and agriculture', 'and airspace', 'and al', 'and all', 'and always', 'and america', 'and an', 'and analysts', 'and and', 'and any', 'and area', 'and assess', 'and at', 'and australia', 'and avoid', 'and beijing', 'and believe', 'and best', 'and bri', 'and bring', 'and buses', 'and by', 'and can', 'and capability', 'and change', 'and chew', 'and china', 'and chinese', 'and clearly', 'and closer', 'and co', 'and common', 'and communication', 'and confident', 'and consultations', 'and contributions', 'and cooperation', 'and corruption', 'and cotton', 'and cpec', 'and create', 'and dalai', 'and data', 'and deceit', 'and deepen', 'and delays', 'and deliver', 'and develop', 'and development', 'and died', 'and djibouti', 'and do', 'and does', 'and duties', 'and economic', 'and elsewhere', 'and energy', 'and enhance', 'and environmental', 'and equal', 'and europe', 'and exchanges', 'and externally', 'and fair', 'and fighting', 'and follow', 'and for', 'and foremost', 'and forward', 'and friendly', 'and from', 'and general', 'and global', 'and has', 'and help', 'and hence', 'and hidden', 'and his', 'and hold', 'and hoped', 'and how', 'and humanity', 'and improve', 'and incapacity', 'and independence', 'and india', 'and initially', 'and installations', 'and intelligence', 'and interests', 'and invest', 'and investment', 'and invited', 'and is', 'and it', 'and join', 'and keeper', 'and killed', 'and leaders', 'and left', 'and legitimate', 'and linking', 'and logistics', 'and make', 'and manage', 'and manifestations', 'and manifests', 'and may', 'and militants', 'and military', 'and millenniums', 'and ministerial', 'and mutual', 'and myanmar', 'and natural', 'and needed', 'and new', 'and not', 'and nuclear', 'and of', 'and officials', 'and open', 'and opening', 'and operationalised', 'and other', 'and otherwise', 'and our', 'and pakistan', 'and people', 'and peshawar', 'and planners', 'and play', 'and politicians', 'and port', 'and power', 'and present', 'and president', 'and promote', 'and propaganda', 'and providing', 'and publicly', 'and qatar', 'and ready', 'and recognise', 'and reconciliation', 'and remain', 'and responsibility', 'and restore', 'and road', 'and rohingya', 'and rs', 'and sacrifice', 'and said', 'and salahuddin', 'and scrapped', 'and senior', 'and separatist', 'and services', 'and smaller', 'and so', 'and social', 'and stability', 'and status', 'and strategic', 'and strengthening', 'and terrorists', 'and that', 'and the', 'and their', 'and there', 'and they', 'and those', 'and threatening', 'and to', 'and underlined', 'and unilaterally', 'and uphold', 'and urged', 'and us', 'and voluntarism', 'and we', 'and when', 'and wick', 'and willing', 'and wise', 'and with', 'and without', 'and work', 'and workers', 'and yang', 'ann wagner', 'anniversary of', 'announced plans', 'announced that', 'annual meeting', 'anonymity the', 'anonymity told', 'another car', 'another flashpoint', 'another he', 'another link', 'another member', 'another question', 'answering spate', 'answers roughly', 'anti american', 'anti ballistic', 'anti terrorism', 'any certain', 'any chinese', 'any country', 'any differences', 'any double', 'any external', 'any issue', 'any one', 'any party', 'any potential', 'any side', 'any third', 'any untoward', 'any way', 'anything will', 'appeared in', 'appraisal of', 'apprehensions over', 'approach in', 'approval from', 'approved at', 'approved by', 'approved for', 'approved in', 'approximately billion', 'april 2017', 'aquil shah', 'arabian sea', 'architecture in', 'are all', 'are also', 'are among', 'are blowing', 'are carving', 'are closely', 'are currently', 'are doing', 'are employed', 'are evidence', 'are experienced', 'are going', 'are here', 'are keen', 'are left', 'are likely', 'are lot', 'are meant', 'are not', 'are part', 'are ready', 'are restricted', 'are testament', 'are to', 'are unlikely', 'are we', 'are willing', 'area and', 'area could', 'area despite', 'area from', 'area of', 'area studies', 'area the', 'areas claimed', 'areas of', 'areas such', 'areas where', 'argues that', 'arising between', 'armed forces', 'arms race', 'army in', 'army the', 'army would', 'arose for', 'around 000', 'around 50', 'arrangement and', 'arrangement in', 'arrangements for', 'arrangements to', 'arrest the', 'arrive in', 'as about', 'as an', 'as being', 'as china', 'as chinese', 'as did', 'as follow', 'as fools', 'as frank', 'as global', 'as he', 'as it', 'as key', 'as loan', 'as neighbours', 'as net', 'as of', 'as part', 'as per', 'as positive', 'as possible', 'as propaganda', 'as public', 'as reform', 'as responsible', 'as saying', 'as soon', 'as special', 'as targeted', 'as terrorist', 'as the', 'as to', 'as two', 'as union', 'as violation', 'as way', 'as well', 'as whole', 'asad umar', 'asia at', 'asia issues', 'asia pacific', 'asia program', 'asia region', 'asia strategy', 'asia the', 'asia times', 'asia to', 'asian countries', 'asian nation', 'asian region', 'asian studies', 'aside and', 'asif and', 'asif inam', 'asif said', 'ask one', 'ask them', 'asked about', 'asked china', 'asked how', 'asked if', 'asked new', 'asked the', 'asked there', 'asked whether', 'asking for', 'assailants shot', 'assembly secretariat', 'assertiveness in', 'assess the', 'asset for', 'assistance for', 'assistance he', 'assistance to', 'assistance will', 'assistant professor', 'assistant secretary', 'associate dean', 'associate for', 'associate professor', 'astana at', 'at an', 'at any', 'at doklam', 'at each', 'at every', 'at government', 'at hurting', 'at improving', 'at international', 'at islamabad', 'at its', 'at jiwani', 'at large', 'at least', 'at pakistan', 'at past', 'at port', 'at sichuan', 'at stake', 'at the', 'at think', 'at this', 'at two', 'attack on', 'attack one', 'attack the', 'attacked so', 'attackers were', 'attacks in', 'attacks on', 'attacks that', 'attempts to', 'attend the', 'attended the', 'attention to', 'attract investments', 'attribute ulterior', 'australia he', 'australia talking', 'authorities informed', 'authorities to', 'authority and', 'authority had', 'authority muzammil', 'authority nha', 'autonomous region', 'avail what', 'avoid allowing', 'avoid any', 'avoid the', 'azhar as', 'azhar today', 'back any', 'back decade', 'back in', 'back its', 'back loans', 'backed belt', 'backed international', 'backward area', 'balance and', 'ballistic missile', 'baloch leader', 'baloch nationalist', 'baloch nationalists', 'balochistan banners', 'balochistan following', 'balochistan has', 'balochistan nationalist', 'balochistan pakistan', 'balochistan province', 'balochistan state', 'balochistan to', 'balochistan which', 'baltistan home', 'baltistan new', 'baltistan which', 'baluchistan province', 'baluchistan separatist', 'bambawale conveyed', 'bambawale has', 'bambawale interview', 'bambawale said', 'bambawale seemed', 'bambawale told', 'ban was', 'banned from', 'banners that', 'bar his', 'base are', 'base at', 'base near', 'based masood', 'based newspaper', 'based restriction', 'based south', 'based think', 'basic security', 'basima road', 'basis of', 'basis officials', 'battered what', 'battling with', 'bbc the', 'be achieved', 'be addressed', 'be affected', 'be any', 'be approved', 'be better', 'be builder', 'be but', 'be called', 'be cleared', 'be completely', 'be critical', 'be described', 'be detained', 'be discussed', 'be explored', 'be finalised', 'be finalized', 'be hit', 'be honest', 'be impacted', 'be included', 'be influenced', 'be involved', 'be isis', 'be issued', 'be lifted', 'be made', 'be monitored', 'be more', 'be much', 'be on', 'be opened', 'be overstated', 'be part', 'be placed', 'be politicised', 'be properly', 'be pushed', 'be released', 'be resolved', 'be reviewed', 'be ruled', 'be seen', 'be solved', 'be spent', 'be swept', 'be taken', 'be the', 'be used', 'be verified', 'became the', 'because beijing', 'because it', 'because of', 'because pakistan', 'because the', 'because these', 'because they', 'because what', 'become another', 'become eligible', 'become fully', 'become to', 'becoming disputes', 'becoming wedge', 'been abolished', 'been affected', 'been alarmed', 'been approved', 'been asking', 'been battling', 'been blowing', 'been declared', 'been developed', 'been dubbed', 'been framing', 'been halted', 'been hijacked', 'been in', 'been locked', 'been made', 'been major', 'been making', 'been more', 'been reached', 'been realising', 'been reports', 'been speculating', 'been stockpiling', 'been the', 'been there', 'been vocal', 'begin with', 'behind halting', 'behind the', 'beijing ambitions', 'beijing and', 'beijing as', 'beijing backed', 'beijing based', 'beijing because', 'beijing belt', 'beijing by', 'beijing china', 'beijing concerns', 'beijing could', 'beijing dawn', 'beijing determination', 'beijing does', 'beijing doesn', 'beijing establishing', 'beijing funding', 'beijing gautam', 'beijing had', 'beijing has', 'beijing in', 'beijing india', 'beijing is', 'beijing issues', 'beijing messaging', 'beijing nearly', 'beijing nervous', 'beijing new', 'beijing offered', 'beijing opposition', 'beijing revised', 'beijing should', 'beijing the', 'beijing under', 'beijing was', 'beijing would', 'being affiliated', 'being built', 'being collected', 'being developed', 'being financed', 'being jointly', 'being of', 'being shot', 'being taken', 'being very', 'being witnessed', 'being xi', 'believe as', 'believe that', 'believe the', 'believes beijing', 'believes that', 'below the', 'belt and', 'belt one', 'belt road', 'beneath the', 'benefit and', 'benefit from', 'benefit the', 'benefit to', 'benefits all', 'benefits for', 'benefits of', 'benefits to', 'besides chinese', 'best serves', 'best take', 'best wishes', 'better life', 'better solution', 'better to', 'better understanding', 'between afghanistan', 'between china', 'between india', 'between nsa', 'between pakistan', 'between prime', 'between the', 'between their', 'beware of', 'beware the', 'beyond supply', 'bhasha dam', 'bid to', 'big concern', 'big earthquake', 'big ones', 'biggest objection', 'bilateral disputes', 'bilateral talks', 'bilateral ties', 'billion 110', 'billion 136', 'billion according', 'billion aid', 'billion china', 'billion cpec', 'billion diamer', 'billion dollar', 'billion dollars', 'billion flagship', 'billion in', 'billion of', 'billion on', 'billion project', 'billion the', 'billion will', 'billion worth', 'billion would', 'birth of', 'birth to', 'bla and', 'blame for', 'blamed pakistan', 'blamed pakistani', 'bloc arrangement', 'bloc is', 'block funds', 'blocked its', 'blow from', 'blowing from', 'blowing it', 'board for', 'boarded the', 'body that', 'bolstering china', 'boost from', 'border areas', 'border disputes', 'border situation', 'border standoff', 'both china', 'both commercial', 'both countries', 'both east', 'both leaders', 'both sides', 'both the', 'boundary dispute', 'bri also', 'bri and', 'bri as', 'bri at', 'bri because', 'bri china', 'bri chinese', 'bri project', 'bri said', 'bri symposium', 'bri the', 'bri through', 'bri touted', 'bri would', 'bridges on', 'bridges speaking', 'briefing here', 'briefing the', 'bring benefits', 'bring peace', 'bring the', 'brining lasting', 'broader energy', 'build its', 'build military', 'build string', 'builder of', 'building any', 'building harmonious', 'building projects', 'building the', 'built as', 'built at', 'built by', 'bullets and', 'bullish to', 'buses with', 'business as', 'business recorder', 'businesses to', 'but about', 'but also', 'but corruption', 'but differences', 'but expressed', 'but he', 'but if', 'but in', 'but india', 'but initial', 'but islamabad', 'but lies', 'but not', 'but only', 'but pakistan', 'but raised', 'but stressed', 'but there', 'but they', 'but think', 'but trump', 'by 2020', 'by all', 'by allowing', 'by any', 'by beijing', 'by both', 'by cancelling', 'by china', 'by completing', 'by dawn', 'by extension', 'by global', 'by including', 'by india', 'by islamabad', 'by islamic', 'by it', 'by its', 'by jadhav', 'by land', 'by making', 'by new', 'by participating', 'by six', 'by step', 'by the', 'by two', 'by un', 'by unidentified', 'by yameen', 'cabinet colleagues', 'cabs and', 'cadres should', 'called for', 'called on', 'called to', 'calling india', 'calls for', 'came as', 'came out', 'came to', 'campaign for', 'can address', 'can as', 'can be', 'can bring', 'can change', 'can provoke', 'can put', 'can resolve', 'can seek', 'can tell', 'cancel 255', 'cancelling 255', 'cannot be', 'cannot exist', 'cannot reach', 'capability to', 'capital with', 'capitulate to', 'car in', 'car on', 'care elderly', 'care housing', 'carnegie endowment', 'carpet believe', 'carpet chinese', 'carpet regarding', 'carry out', 'carving out', 'cary assistant', 'case as', 'case of', 'catastrophic one', 'cause important', 'cause lu', 'cause of', 'causes of', 'cautioning pakistan', 'celebrating the', 'cements the', 'cent convinced', 'cent of', 'center said', 'central asia', 'central asian', 'centre for', 'centre kugelman', 'certain country', 'certain issues', 'certainly reason', 'chabahar port', 'chain india', 'chairman of', 'change actively', 'change in', 'change the', 'channels between', 'charged with', 'charges in', 'chart out', 'charter we', 'chat in', 'chen zhu', 'chew gum', 'children beware', 'children so', 'china access', 'china already', 'china also', 'china and', 'china are', 'china as', 'china aside', 'china at', 'china believes', 'china bri', 'china but', 'china came', 'china can', 'china chairman', 'china china', 'china claims', 'china commitment', 'china could', 'china creep', 'china decided', 'china defends', 'china demand', 'china does', 'china doesn', 'china efforts', 'china for', 'china forces', 'china foreign', 'china gautam', 'china great', 'china growing', 'china had', 'china has', 'china have', 'china having', 'china help', 'china here', 'china history', 'china in', 'china india', 'china intent', 'china international', 'china invites', 'china iqbal', 'china is', 'china largest', 'china may', 'china michael', 'china morning', 'china offer', 'china offered', 'china officially', 'china on', 'china one', 'china pakistan', 'china plans', 'china prestigious', 'china raised', 'china remain', 'china resource', 'china resources', 'china restive', 'china ric', 'china said', 'china sea', 'china security', 'china seeks', 'china seems', 'china since', 'china south', 'china stands', 'china state', 'china support', 'china the', 'china through', 'china ties', 'china to', 'china today', 'china undue', 'china views', 'china visit', 'china was', 'china way', 'china while', 'china why', 'china will', 'china with', 'china worries', 'china would', 'china xinjiang', 'chinese academy', 'chinese and', 'chinese are', 'chinese assistance', 'chinese authorities', 'chinese border', 'chinese citizens', 'chinese commercial', 'chinese company', 'chinese cpec', 'chinese currency', 'chinese dream', 'chinese engineers', 'chinese experts', 'chinese foreign', 'chinese government', 'chinese he', 'chinese influence', 'chinese initiatives', 'chinese investment', 'chinese investments', 'chinese investors', 'chinese market', 'chinese media', 'chinese military', 'chinese nation', 'chinese national', 'chinese official', 'chinese officials', 'chinese people', 'chinese personnel', 'chinese preaching', 'chinese president', 'chinese scholar', 'chinese shipping', 'chinese side', 'chinese special', 'chinese step', 'chinese university', 'chinese wang', 'chinese who', 'chinese workers', 'chotu gang', 'christianity were', 'chunying said', 'circular railway', 'cited rampant', 'citing tough', 'citizens but', 'city of', 'civilian and', 'civilian government', 'claim that', 'claimed by', 'claimed territory', 'claimed that', 'claimed the', 'claims it', 'claims on', 'clashes the', 'clear and', 'clear how', 'clear if', 'clear reference', 'clear signal', 'clear the', 'clear what', 'clear when', 'cleared last', 'clearly aggravate', 'clerics and', 'climate change', 'close friend', 'close ties', 'close to', 'closely following', 'closely linked', 'closer involvement', 'closer to', 'co development', 'coal fired', 'coalition to', 'coast of', 'coastal developers', 'colleagues also', 'colleagues who', 'collected during', 'collection of', 'collective basis', 'collective rant', 'come and', 'come decade', 'come to', 'come under', 'comes soon', 'comfortable entrusting', 'coming years', 'commended the', 'commenting on', 'comments were', 'commercial and', 'commercial economic', 'commission request', 'commissioning of', 'commitment not', 'commitment to', 'committed to', 'committee al', 'committee going', 'committee jcc', 'committee meeting', 'committee members', 'committee said', 'committee that', 'common development', 'common enemy', 'common interests', 'common neighbour', 'common prosperity', 'communicate and', 'communication and', 'communication for', 'community cracking', 'community has', 'community he', 'community should', 'community told', 'company engaged', 'company involved', 'competitor in', 'complaining about', 'completely eliminated', 'completely rupture', 'completing decade', 'comprising the', 'concept is', 'concern about', 'concern for', 'concern read', 'concern remain', 'concerned about', 'concerns about', 'concerns are', 'concerns but', 'concerns given', 'concerns in', 'concerns over', 'concerns the', 'concerns were', 'concessionary finance', 'concluded economic', 'concluded that', 'conclusion that', 'condition of', 'conditional for', 'conditions for', 'conditions of', 'conditions were', 'conditions which', 'conducive to', 'conference along', 'confessional statements', 'confident tone', 'confirm that', 'confirmed on', 'confirmed that', 'congressional hearing', 'congresswoman ann', 'connect china', 'connecting people', 'connecting to', 'connectivity and', 'connectivity in', 'connectivity plan', 'connectivity process', 'connectivity project', 'connectivity projects', 'connectivity under', 'connectivity with', 'consensus has', 'consensus included', 'consensus on', 'considering new', 'conspiracies against', 'conspiracies he', 'conspiring against', 'construction he', 'construction of', 'construction throughout', 'constructive role', 'consulate general', 'consultation she', 'consultations by', 'consultations with', 'contain china', 'contemporary china', 'contentious 50', 'context and', 'context of', 'continue to', 'continued democracy', 'continued to', 'continues to', 'continuously of', 'contradicting its', 'contribute to', 'contribution to', 'contributions to', 'contributor of', 'control over', 'controversial project', 'conventional warfare', 'conversation between', 'conversations pakistani', 'convey stern', 'conveyed india', 'conveyed to', 'conveying diplomatic', 'convince the', 'convinced that', 'convincing pakistan', 'convincing the', 'cooperation agreement', 'cooperation among', 'cooperation and', 'cooperation benefits', 'cooperation between', 'cooperation committee', 'cooperation focusing', 'cooperation in', 'cooperation including', 'cooperation initiative', 'cooperation is', 'cooperation on', 'cooperation programme', 'cooperation project', 'cooperation projects', 'cooperation should', 'cooperation so', 'cooperation the', 'cooperation this', 'cooperation to', 'cooperation under', 'cooperation with', 'cooperative approach', 'coordinator centre', 'cope or', 'corridor along', 'corridor becoming', 'corridor cpec', 'corridor following', 'corridor is', 'corridor may', 'corridor passes', 'corridor providing', 'corridor stretching', 'corridor through', 'corridor which', 'corruption been', 'corruption decision', 'corruption in', 'corruption is', 'corruption leaving', 'corruption pakistan', 'corruption which', 'cost of', 'cotton for', 'cotton to', 'could affect', 'could be', 'could disturb', 'could have', 'could lead', 'could not', 'could play', 'could undermine', 'council too', 'counter chinese', 'counter terrorism', 'counter us', 'counterparts from', 'counterterrorism offensive', 'counties this', 'countries africa', 'countries and', 'countries boarded', 'countries can', 'countries china', 'countries chinese', 'countries dokalam', 'countries have', 'countries he', 'countries held', 'countries in', 'countries including', 'countries is', 'countries on', 'countries president', 'countries reached', 'countries she', 'countries should', 'countries that', 'countries the', 'countries there', 'countries they', 'countries to', 'countries with', 'country ability', 'country am', 'country and', 'country as', 'country broader', 'country china', 'country chinese', 'country civilian', 'country day', 'country expects', 'country global', 'country group', 'country have', 'country hua', 'country in', 'country is', 'country it', 'country neighbours', 'country not', 'country of', 'country onto', 'country participation', 'country senior', 'country she', 'country the', 'country under', 'country until', 'country warmth', 'country was', 'country where', 'court to', 'covering up', 'cpec and', 'cpec are', 'cpec as', 'cpec asif', 'cpec but', 'cpec cements', 'cpec china', 'cpec citing', 'cpec connecting', 'cpec construction', 'cpec corridor', 'cpec could', 'cpec deal', 'cpec economically', 'cpec even', 'cpec evidently', 'cpec flagship', 'cpec following', 'cpec had', 'cpec he', 'cpec in', 'cpec india', 'cpec interior', 'cpec is', 'cpec kugelman', 'cpec links', 'cpec may', 'cpec on', 'cpec over', 'cpec political', 'cpec project', 'cpec projects', 'cpec route', 'cpec routes', 'cpec she', 'cpec should', 'cpec success', 'cpec that', 'cpec the', 'cpec this', 'cpec till', 'cpec to', 'cpec twice', 'cpec umbrella', 'cpec was', 'cpec which', 'cpec while', 'cpec will', 'cpec with', 'crack down', 'crackdown on', 'cracking down', 'create an', 'creating shared', 'creation of', 'creditworthiness and', 'creep westward', 'crime that', 'criminal gangs', 'criminals to', 'crisis chinese', 'crisis geng', 'crisis it', 'crisis seared', 'crisis which', 'critical asset', 'critical data', 'critical interest', 'critical military', 'critical of', 'criticism of', 'criticism would', 'ct scan', 'currency issue', 'currency within', 'current deferral', 'current issue', 'current poverty', 'current situation', 'currently investing', 'currently under', 'cusp of', 'czar today', 'dalai lama', 'dam as', 'dam because', 'dam project', 'damage its', 'damage not', 'danger to', 'dangerous weapons', 'dangers lurking', 'data being', 'data to', 'dates suitable', 'davos pakistan', 'davos we', 'dawn as', 'dawn had', 'dawn newspaper', 'dawn report', 'dawn reported', 'day after', 'day bambawale', 'day border', 'day iran', 'day one', 'day tweet', 'dc would', 'dead by', 'deal saying', 'deal the', 'deal with', 'dean sichuan', 'death of', 'death row', 'decade lot', 'decade of', 'decade too', 'decades and', 'decades by', 'deceit and', 'deceit no', 'deceit thinking', 'deceit trump', 'december 2016', 'december 26', 'decided to', 'deciding who', 'decision by', 'decision could', 'decision of', 'decision on', 'decision that', 'decision to', 'decisive action', 'declare nawaz', 'declared sensitive', 'declaring pakistan', 'decline and', 'deep it', 'deep presence', 'deep sea', 'deepen china', 'deepen our', 'deepening trade', 'deeper regional', 'defence of', 'defence systems', 'defended pakistan', 'defending countries', 'defending pakistan', 'defends it', 'deferral to', 'deficit according', 'deficit with', 'definitely advance', 'delay at', 'delay the', 'delay will', 'delays which', 'delegations china', 'delhi balochistan', 'delhi beijing', 'delhi believes', 'delhi biggest', 'delhi china', 'delhi concerns', 'delhi does', 'delhi last', 'delhi manages', 'delhi new', 'delhi over', 'delhi priority', 'delhi russia', 'delhi strenuous', 'delhi strong', 'delhi sushma', 'delhi that', 'delhi the', 'delhi to', 'delhi when', 'delhi will', 'delicate balance', 'delinked the', 'deliver major', 'demand to', 'democracy he', 'demonstrate that', 'denied luo', 'denies its', 'department had', 'department of', 'department on', 'department that', 'depend on', 'deploy ballistic', 'deployment beijing', 'deployment in', 'deposit of', 'deputy director', 'dera ismail', 'described as', 'described islamabad', 'described it', 'described the', 'described this', 'described under', 'described while', 'designated gwadar', 'designs of', 'desirable impacts', 'desire to', 'desperate since', 'desperately needs', 'despite facing', 'despite the', 'destabilising effects', 'destructive impact', 'detained he', 'deteriorate even', 'determination to', 'determine the', 'develop better', 'develop economy', 'develop ties', 'developed and', 'developed by', 'developed jointly', 'developers and', 'development ahsan', 'development and', 'development as', 'development authority', 'development in', 'development it', 'development minister', 'development of', 'development per', 'development programme', 'development projects', 'development she', 'development since', 'development strategies', 'development the', 'development wang', 'development was', 'developments indicate', 'dialogue across', 'dialogue and', 'dialogue the', 'dialogue will', 'diamer bhasha', 'diamer district', 'did lot', 'did not', 'did the', 'died at', 'differences arising', 'differences between', 'differences from', 'differences india', 'differences like', 'differences on', 'differences we', 'differences while', 'differences will', 'different forums', 'different projects', 'different tactics', 'difficult for', 'diplomatese for', 'diplomatic channels', 'diplomatic yet', 'diplomatically hostile', 'diplomats and', 'directed against', 'directed at', 'directives for', 'directives the', 'directly by', 'directly name', 'director and', 'director general', 'director of', 'disagreements which', 'disappointed since', 'disaster in', 'disasters given', 'discuss indian', 'discuss such', 'discuss the', 'discuss way', 'discussed and', 'discussed at', 'discussed beijing', 'discussed on', 'discussed the', 'discussion indian', 'discussions agreed', 'discussions did', 'dismissal from', 'dismissal of', 'dispute between', 'dispute she', 'disputed claims', 'disputes and', 'disputes at', 'disputes between', 'disputes saying', 'disputes this', 'disputes with', 'district on', 'disturb more', 'disturbed by', 'disturbed with', 'divided between', 'djibouti in', 'do business', 'do ct', 'do good', 'do it', 'do our', 'do so', 'do we', 'do with', 'documents with', 'documents would', 'does have', 'does not', 'doesn cope', 'doesn want', 'doing enough', 'doing the', 'doing this', 'dokalam border', 'doklam area', 'doklam crisis', 'doklam must', 'doklam phase', 'doklam standoff', 'dollar china', 'dollar project', 'dollars in', 'domestic front', 'domestic tension', 'don agree', 'donald trump', 'door open', 'double standards', 'doubt about', 'doval and', 'down following', 'down of', 'down on', 'downplayed at', 'dozen bridges', 'dramatic progress', 'dream xi', 'driven by', 'drop its', 'dubbed iraqi', 'due to', 'during congressional', 'during speech', 'during the', 'during those', 'during which', 'duties he', 'each other', 'earlier this', 'early because', 'early harvest', 'earth structure', 'earthquake activity', 'earthquake affecting', 'earthquake near', 'earthquake or', 'earthquake shook', 'earthquake was', 'easier it', 'east and', 'east or', 'easy and', 'eat your', 'economic activities', 'economic and', 'economic cooperation', 'economic corridor', 'economic development', 'economic forum', 'economic interests', 'economic performance', 'economic ties', 'economic union', 'economically the', 'economy and', 'education employment', 'effects especially', 'effort by', 'effort to', 'efforts after', 'efforts and', 'efforts first', 'efforts from', 'efforts he', 'efforts in', 'efforts to', 'efsas analysis', 'efsas report', 'efsas suggests', 'eight point', 'either the', 'elderly care', 'electoral victory', 'eligible for', 'eliminate terror', 'eliminated it', 'else conditional', 'elsewhere in', 'emerged on', 'emphasise that', 'employed in', 'employment income', 'enable pakistan', 'encountered the', 'encouraging luo', 'ended collective', 'endorsed nor', 'endowment for', 'enemies of', 'enemy of', 'enemy would', 'energy and', 'energy crisis', 'energy infrastructure', 'energy investment', 'energy project', 'energy projects', 'engage wider', 'engaged in', 'engaged with', 'engaging in', 'engineers and', 'engineers working', 'enhance communication', 'enhance cooperation', 'enhance counter', 'enhance economic', 'enhanced cooperation', 'enhanced security', 'enhancing cooperation', 'enormous efforts', 'enough and', 'enough to', 'enough very', 'enshrined by', 'ensure our', 'ensure transfer', 'ensuring that', 'ensuring the', 'entail destabilising', 'entails building', 'entering switzerland', 'entrusting it', 'entry into', 'environmental protection', 'envisages investment', 'envisioned cpec', 'envoy in', 'envoy the', 'envoy to', 'epicentre of', 'equal consultation', 'equality and', 'eradicate poverty', 'eradicated poverty', 'especially in', 'espionage chain', 'establish military', 'established strong', 'establishing hegemony', 'estimated cost', 'eurasian economic', 'europe over', 'europe the', 'europe through', 'european foundation', 'evacuate indians', 'even as', 'even further', 'even indicated', 'even though', 'event in', 'eventually self', 'ever trilateral', 'every one', 'every other', 'every platform', 'every stakeholder', 'everyone without', 'everything else', 'evidence of', 'evident from', 'evidently this', 'evidently would', 'exacerbate india', 'examine some', 'exceeded 62', 'excellent relationships', 'exchange on', 'exchanges between', 'exchanges geng', 'exchanges he', 'executive passport', 'executive worked', 'exist as', 'existing dam', 'existing procedure', 'expand our', 'expectations though', 'expected lines', 'expected that', 'expected to', 'expecting that', 'expects pakistan', 'expects relationships', 'expedition was', 'expedition would', 'expeditions in', 'experience delay', 'experienced enough', 'experimental vessel', 'experts said', 'experts would', 'explore the', 'explored in', 'export to', 'exports of', 'express concern', 'express tribune', 'expressed hope', 'expressing his', 'extend cpec', 'extend its', 'extend the', 'extended invitations', 'extended new', 'extending support', 'extension is', 'extension the', 'external affairs', 'external interference', 'externally he', 'extreme poverty', 'extremism under', 'faced them', 'facilities along', 'facilities and', 'facing fractures', 'fact that', 'fact the', 'factors that', 'fail the', 'failure to', 'failures in', 'fair way', 'faisal said', 'fall pakistan', 'far the', 'fate of', 'father and', 'favourable terms', 'favourable view', 'feasibility reports', 'federal interior', 'feel like', 'feeling the', 'feels the', 'fell short', 'fellow for', 'few years', 'fields it', 'fight against', 'fight all', 'fighting against', 'figured prominently', 'figures india', 'final goal', 'finalised during', 'finalized during', 'finance from', 'finance its', 'financed by', 'financial irregularities', 'financial mechanism', 'financial review', 'financing conditions', 'financing for', 'financing terms', 'financing the', 'find answers', 'find the', 'find way', 'finger pointing', 'fired power', 'firing an', 'firm in', 'firmed up', 'firmly committed', 'first and', 'first ever', 'first major', 'first meeting', 'first new', 'first one', 'first project', 'first projects', 'first time', 'first trilateral', 'first tweet', 'first unit', 'first visit', 'five year', 'flagged by', 'flagship project', 'flagship venture', 'flashpoint the', 'flashpoint while', 'fo spokesman', 'focuses on', 'focusing on', 'foiled them', 'follow policy', 'follow the', 'follow up', 'following allegations', 'following beijing', 'following reports', 'following the', 'following this', 'following up', 'fooling us', 'foolishly given', 'foolproof security', 'fools trump', 'footprint he', 'footprint in', 'for 20', 'for 33', 'for 350', 'for beijing', 'for better', 'for bhasha', 'for bilateral', 'for both', 'for bridges', 'for brining', 'for china', 'for chinese', 'for common', 'for concessionary', 'for convincing', 'for cooperation', 'for cpec', 'for decades', 'for deeper', 'for deployment', 'for early', 'for everyone', 'for export', 'for freeing', 'for fund', 'for future', 'for greater', 'for hatching', 'for his', 'for humanity', 'for india', 'for indian', 'for international', 'for its', 'for london', 'for major', 'for making', 'for management', 'for military', 'for new', 'for now', 'for number', 'for our', 'for pakistan', 'for pakistani', 'for peaceful', 'for planning', 'for political', 'for providing', 'for quetta', 'for release', 'for removal', 'for resolving', 'for russia', 'for shared', 'for shipping', 'for south', 'for strengthening', 'for such', 'for terrorism', 'for terrorists', 'for the', 'for their', 'for third', 'for this', 'for three', 'for truly', 'for two', 'for us', 'force and', 'force of', 'force will', 'forcefully in', 'forces as', 'forces in', 'forces ready', 'forces were', 'foreign military', 'foreign minister', 'foreign ministers', 'foreign ministry', 'foreign office', 'foreign relations', 'foreigners in', 'foremost would', 'formalities it', 'formally oppose', 'format china', 'formation of', 'former pakistani', 'formidable presence', 'forms and', 'forms of', 'forms part', 'forth that', 'forty years', 'forum in', 'forum wef', 'forums after', 'forward looking', 'forward strong', 'forward to', 'foundation but', 'foundation for', 'four countries', 'four global', 'four goals', 'fractured is', 'fractured world', 'fractures internally', 'framework and', 'framework for', 'framework of', 'framing baloch', 'frank and', 'frank which', 'frankly but', 'free and', 'free balochistan', 'free zone', 'freeing balochistan', 'frequent attacks', 'frequently gives', 'fresh guidelines', 'frictions with', 'friday said', 'friend china', 'friendly exchanges', 'friends all', 'friends to', 'friendship from', 'from ani', 'from another', 'from becoming', 'from beijing', 'from both', 'from china', 'from chinese', 'from congresswoman', 'from cpec', 'from day', 'from easy', 'from entering', 'from gwadar', 'from india', 'from new', 'from other', 'from pakistan', 'from raikot', 'from saeed', 'from such', 'from terrorism', 'from the', 'from this', 'from washington', 'front xi', 'fta deal', 'fulfill china', 'fully developed', 'fully operational', 'fund release', 'funded chinese', 'funded largely', 'funding at', 'funding conditions', 'funding may', 'funding of', 'funding some', 'funds following', 'funds for', 'funds had', 'funds is', 'funds it', 'funds to', 'funds was', 'funds were', 'funds will', 'funds would', 'further bolstering', 'further carry', 'further decision', 'further geng', 'further strengthen', 'further strengthened', 'further strengthening', 'further thousands', 'furthermore criminal', 'future for', 'future in', 'future of', 'future pla', 'future projects', 'future security', 'future the', 'fy 2016', 'gang abducted', 'gangs pose', 'gas reserves', 'gautam bambawale', 'gave asia', 'gb would', 'gen retd', 'general miroslav', 'general national', 'general of', 'general the', 'general vulnerability', 'generate more', 'generates additional', 'geneva and', 'geneva similar', 'geng china', 'geng retorted', 'geng said', 'geng shuang', 'geng while', 'geographically but', 'geologists from', 'get better', 'gilgit baltistan', 'give safe', 'give shape', 'give the', 'given birth', 'given india', 'given issues', 'given lack', 'given new', 'given pakistan', 'given that', 'given us', 'gives india', 'giving new', 'giving nothing', 'glad to', 'global anti', 'global businesses', 'global cause', 'global development', 'global image', 'global issues', 'global joint', 'global non', 'global terrorism', 'global terrorist', 'global think', 'global times', 'go to', 'go well', 'goal is', 'goal of', 'goal wasn', 'goals support', 'goes through', 'goes walk', 'going back', 'going to', 'gone on', 'good job', 'government and', 'government claim', 'government funded', 'government geng', 'government greatest', 'government had', 'government has', 'government hospital', 'government how', 'government is', 'government official', 'government only', 'government or', 'government own', 'government to', 'government was', 'government which', 'government work', 'graft as', 'graft charges', 'great achievement', 'great cause', 'greater involvement', 'greater role', 'greatest political', 'greetings to', 'gripping the', 'ground that', 'grounds it', 'group but', 'group jwg', 'group or', 'group restarted', 'grouping among', 'grouping comprising', 'grouping etc', 'groups like', 'groups without', 'grow stronger', 'growing assertiveness', 'growing chinese', 'growing trade', 'growth prime', 'guangzhou and', 'guarantee the', 'guidelines by', 'guidelines for', 'guidelines overseeing', 'guidelines the', 'guidelines under', 'guidelines will', 'guidelines would', 'gul khan', 'gum at', 'gunmen in', 'guys will', 'gwadar forms', 'gwadar free', 'gwadar future', 'gwadar he', 'gwadar port', 'gwadar the', 'gwadar this', 'gwadar was', 'gwadar which', 'gwadar will', 'had accused', 'had admitted', 'had already', 'had announced', 'had been', 'had cited', 'had corruption', 'had exceeded', 'had frank', 'had given', 'had imposed', 'had itself', 'had made', 'had not', 'had opted', 'had received', 'had rendered', 'had reported', 'had said', 'had sent', 'had temporarily', 'had told', 'had tweeted', 'had warned', 'haj gul', 'haley said', 'halt funding', 'halted funding', 'halted on', 'halted release', 'halted the', 'halting funds', 'hambantota port', 'hand the', 'hangs in', 'happen he', 'happened in', 'happens it', 'happy the', 'happy with', 'haqqani network', 'hard hitting', 'harmonious relationship', 'harsh disagreements', 'harvest projects', 'has accused', 'has acquired', 'has advocated', 'has allowed', 'has already', 'has also', 'has always', 'has an', 'has been', 'has blocked', 'has both', 'has decided', 'has deposit', 'has described', 'has enhanced', 'has enough', 'has eradicated', 'has established', 'has firmed', 'has foolishly', 'has further', 'has given', 'has halted', 'has improved', 'has increasingly', 'has informed', 'has introduced', 'has issued', 'has left', 'has made', 'has much', 'has not', 'has nothing', 'has objected', 'has offered', 'has opposed', 'has picked', 'has praised', 'has raised', 'has repeatedly', 'has resulted', 'has said', 'has sent', 'has serious', 'has sided', 'has something', 'has started', 'has subsided', 'has successfully', 'has temporarily', 'has the', 'has told', 'has undue', 'has unique', 'has warned', 'hatching conspiracies', 'have agreed', 'have already', 'have also', 'have been', 'have come', 'have concluded', 'have decided', 'have designated', 'have desirable', 'have engaged', 'have excellent', 'have given', 'have gone', 'have happened', 'have informed', 'have just', 'have made', 'have occurred', 'have on', 'have plans', 'have proposed', 'have questioned', 'have say', 'have seen', 'have stressed', 'have strong', 'have taken', 'have targeted', 'have teamed', 'have the', 'haven to', 'havens for', 'havens on', 'havens to', 'havens we', 'having agreed', 'having an', 'having secured', 'he added', 'he also', 'he called', 'he claimed', 'he even', 'he extended', 'he gave', 'he had', 'he however', 'he invited', 'he noted', 'he pointed', 'he said', 'he told', 'he vowed', 'he was', 'he wrote', 'head by', 'health care', 'health human', 'hearing it', 'hearing on', 'heart and', 'heavily in', 'heavy chinese', 'hegemony in', 'hegemony of', 'height of', 'held last', 'held on', 'held the', 'held their', 'help afghanistan', 'help no', 'help them', 'help to', 'help us', 'helpful role', 'hence violates', 'here at', 'here for', 'here janjua', 'here last', 'here on', 'here said', 'here say', 'here today', 'here when', 'here which', 'here yesterday', 'heritage foundation', 'hidden agenda', 'high commission', 'high level', 'high washington', 'highlighting reports', 'highway authority', 'highway dawn', 'highway from', 'highway kkh', 'highway project', 'hijacked by', 'him even', 'him the', 'hindrances in', 'his cabinet', 'his comments', 'his counterparts', 'his country', 'his dismissal', 'his economic', 'his entry', 'his first', 'his meeting', 'his new', 'his part', 'his personal', 'his relatives', 'his second', 'his several', 'his tweets', 'historical perspective', 'history believe', 'history by', 'history that', 'hit by', 'hit is', 'hit over', 'hit the', 'hitting interview', 'hold talks', 'home department', 'home secretary', 'honest my', 'hong kong', 'hongfeng from', 'hope it', 'hope that', 'hope the', 'hope to', 'hoped that', 'horn of', 'hospital and', 'hospital where', 'host of', 'hostile after', 'house confirmed', 'house foreign', 'house official', 'housing and', 'how the', 'how wide', 'how will', 'however acknowledged', 'however china', 'however claimed', 'however described', 'however it', 'however senior', 'hua added', 'hua chunying', 'hua did', 'hua said', 'huang also', 'huang who', 'huang yunsong', 'human resources', 'humanity let', 'humanity with', 'hundreds of', 'hunt in', 'hurdles in', 'hurling threats', 'hurt sentiments', 'hurting india', 'hussain had', 'identical stance', 'identify cooperation', 'if and', 'if fully', 'if india', 'if it', 'if the', 'if they', 'ignore indian', 'ignore them', 'igp sabir', 'igp said', 'image abbasi', 'imbalance between', 'imbalance need', 'impact its', 'impact of', 'impact that', 'impacted all', 'impacts for', 'implode he', 'important for', 'important link', 'important principle', 'important sacrifices', 'important scientific', 'important to', 'imports said', 'imposed by', 'imposed tough', 'improve and', 'improve further', 'improve livelihood', 'improve the', 'improved in', 'improvement in', 'improving connectivity', 'improving not', 'improving the', 'in 1945', 'in 2005', 'in 2015', 'in 2016', 'in 2018', 'in accordance', 'in addition', 'in afghanistan', 'in aid', 'in all', 'in an', 'in any', 'in areas', 'in astana', 'in balochistan', 'in baluchistan', 'in beijing', 'in bengali', 'in bid', 'in bilateral', 'in bri', 'in business', 'in central', 'in china', 'in chinese', 'in clear', 'in collective', 'in connecting', 'in contemporary', 'in convincing', 'in corridor', 'in cpec', 'in critical', 'in davos', 'in december', 'in deciding', 'in defence', 'in delhi', 'in delicate', 'in development', 'in different', 'in europe', 'in extending', 'in fact', 'in factors', 'in foreign', 'in fractured', 'in fy', 'in gb', 'in geneva', 'in gilgit', 'in guangzhou', 'in hard', 'in his', 'in india', 'in international', 'in islamabad', 'in its', 'in joint', 'in july', 'in just', 'in karachi', 'in maldives', 'in manila', 'in may', 'in much', 'in negotiating', 'in nepal', 'in new', 'in no', 'in number', 'in obor', 'in october', 'in other', 'in our', 'in pakistan', 'in part', 'in perspective', 'in private', 'in providing', 'in punjab', 'in pursuing', 'in quetta', 'in recent', 'in reference', 'in region', 'in relations', 'in reply', 'in report', 'in response', 'in return', 'in sabotaging', 'in scathing', 'in security', 'in setbacks', 'in singapore', 'in some', 'in south', 'in southern', 'in sri', 'in subduction', 'in support', 'in surprise', 'in terms', 'in that', 'in the', 'in their', 'in this', 'in touch', 'in us', 'in which', 'in xiamen', 'inam nio', 'inam told', 'inaugurated on', 'inaugurating an', 'incapacity there', 'inching beneath', 'incident an', 'include 210', 'include the', 'included enhanced', 'included pledging', 'included security', 'included the', 'included under', 'includes move', 'includes some', 'including counter', 'including future', 'including its', 'including pakistan', 'including the', 'including today', 'including two', 'income social', 'incorporates china', 'increase the', 'increased rhetoric', 'increasingly been', 'increasingly in', 'independence of', 'independence sovereignty', 'independent balochistan', 'independent relationship', 'independent state', 'independently and', 'independently resolving', 'india across', 'india afghanistan', 'india after', 'india alliance', 'india ambassador', 'india and', 'india as', 'india asked', 'india at', 'india attempts', 'india became', 'india but', 'india cannot', 'india china', 'india chinese', 'india concerns', 'india could', 'india desire', 'india during', 'india has', 'india in', 'india insisted', 'india intelligence', 'india involvement', 'india iran', 'india is', 'india japan', 'india join', 'india joining', 'india key', 'india luo', 'india may', 'india of', 'india opposed', 'india opposition', 'india pakistan', 'india participation', 'india partnership', 'india point', 'india preference', 'india reaction', 'india refusal', 'india relations', 'india role', 'india said', 'india sells', 'india she', 'india should', 'india sources', 'india special', 'india stressed', 'india subversive', 'india test', 'india that', 'india the', 'india to', 'india trade', 'india which', 'indian agents', 'indian ambassador', 'indian claimed', 'indian concerns', 'indian death', 'indian efforts', 'indian iron', 'indian market', 'indian ocean', 'indian policymakers', 'indian side', 'indian sovereignty', 'indian special', 'indian strategists', 'indians said', 'indicate the', 'indicated that', 'indicates that', 'indicating that', 'individual to', 'indo pacific', 'influence in', 'influence including', 'influenced or', 'information and', 'informed about', 'informed in', 'informed parliamentary', 'informed that', 'informed the', 'informed us', 'infrastructure in', 'infrastructure projects', 'inhibits cooperation', 'initial reports', 'initially may', 'initiative and', 'initiative bri', 'initiative but', 'initiative chinese', 'initiative first', 'initiative focuses', 'initiative framework', 'initiative that', 'initiative the', 'initiative we', 'initiatives in', 'inputs from', 'insaf leader', 'inside the', 'insinuation of', 'insisted on', 'insisting that', 'inspect the', 'inspector general', 'installations he', 'installations of', 'installations on', 'instead of', 'institute of', 'institutions saeed', 'instructions from', 'instruments into', 'insurgency to', 'insurgency torn', 'integrate into', 'integrity this', 'intelligence agency', 'intelligence officials', 'intense earthquake', 'intent for', 'interceptor missile', 'interest for', 'interest members', 'interest of', 'interest to', 'interested in', 'interesting and', 'interests and', 'interests in', 'interests it', 'interests of', 'interests this', 'interfere in', 'interference in', 'interference specially', 'interior minister', 'interior ministry', 'internal affairs', 'internally and', 'international and', 'international community', 'international cooperation', 'international counter', 'international issues', 'international level', 'international obligations', 'international order', 'international peace', 'international relations', 'international studies', 'interview he', 'interview published', 'interview to', 'interview we', 'interview with', 'into cpec', 'into that', 'into the', 'introduced the', 'invest in', 'investing heavily', 'investing over', 'investment about', 'investment is', 'investment michael', 'investment of', 'investments and', 'investments as', 'investments in', 'investments under', 'investors happy', 'invitations to', 'invited global', 'invited more', 'invites more', 'involved in', 'involvement in', 'involvement of', 'involvement would', 'iqbal as', 'iqbal could', 'iqbal informed', 'iqbal on', 'iqbal said', 'iqbal the', 'iqbal was', 'iran and', 'iran chabahar', 'iran pakistan', 'iraqi agents', 'iron ore', 'irregularities and', 'irreversible am', 'irritants in', 'is 110', 'is against', 'is all', 'is also', 'is an', 'is another', 'is at', 'is being', 'is between', 'is big', 'is close', 'is closely', 'is collection', 'is committed', 'is common', 'is connectivity', 'is conspiring', 'is currently', 'is defending', 'is diplomatese', 'is framework', 'is glad', 'is going', 'is great', 'is happy', 'is hatching', 'is highlighting', 'is important', 'is in', 'is inching', 'is increasingly', 'is interested', 'is investing', 'is involved', 'is irreversible', 'is its', 'is just', 'is keen', 'is known', 'is likely', 'is major', 'is merely', 'is more', 'is mounting', 'is much', 'is natural', 'is network', 'is no', 'is not', 'is now', 'is one', 'is only', 'is open', 'is opposed', 'is our', 'is part', 'is particularly', 'is planned', 'is playing', 'is political', 'is politically', 'is precondition', 'is prepared', 'is ready', 'is rooted', 'is rs', 'is seeking', 'is seen', 'is seismically', 'is significant', 'is smooth', 'is something', 'is temporary', 'is tense', 'is tensions', 'is that', 'is the', 'is to', 'is unevenly', 'is unusual', 'is using', 'is very', 'is well', 'is why', 'is willing', 'isis and', 'islamabad and', 'islamabad as', 'islamabad by', 'islamabad china', 'islamabad either', 'islamabad for', 'islamabad india', 'islamabad it', 'islamabad of', 'islamabad pakistan', 'islamabad providing', 'islamabad response', 'islamabad stunned', 'islamabad was', 'islamic terrorists', 'ismail khan', 'israeli agents', 'issue and', 'issue calling', 'issue experts', 'issue faced', 'issue for', 'issue fresh', 'issue he', 'issue new', 'issue that', 'issue to', 'issue while', 'issue xi', 'issued directives', 'issued for', 'issued from', 'issues and', 'issues are', 'issues between', 'issues but', 'issues flagged', 'issues foreign', 'issues frankly', 'issues including', 'issues new', 'issues of', 'issues the', 'issues there', 'issues through', 'issues were', 'issues would', 'it as', 'it assailants', 'it can', 'it china', 'it closer', 'it continued', 'it continues', 'it could', 'it did', 'it entails', 'it forward', 'it goes', 'it going', 'it had', 'it happen', 'it has', 'it he', 'it in', 'it includes', 'it indicating', 'it is', 'it links', 'it needs', 'it not', 'it now', 'it of', 'it out', 'it passes', 'it products', 'it said', 'it saying', 'it seeks', 'it sees', 'it serves', 'it should', 'it shows', 'it so', 'it started', 'it the', 'it threatens', 'it to', 'it together', 'it traversed', 'it traverses', 'it under', 'it uses', 'it was', 'it will', 'it with', 'it would', 'its 255', 'its all', 'its ambassador', 'its ambitious', 'its belt', 'its bilateral', 'its building', 'its close', 'its creditworthiness', 'its efforts', 'its envoy', 'its failure', 'its failures', 'its favourable', 'its financial', 'its influence', 'its internal', 'its maritime', 'its national', 'its nationals', 'its one', 'its opposition', 'its own', 'its part', 'its partnership', 'its path', 'its policy', 'its position', 'its relationship', 'its restive', 'its share', 'its social', 'its soil', 'its south', 'its sovereignty', 'its stand', 'its stated', 'its strengths', 'its support', 'its theme', 'its transit', 'its vital', 'itself delinked', 'jadhav are', 'jadhav had', 'jadhav in', 'jammu kashmir', 'janjua also', 'janjua claimed', 'janjua said', 'japan and', 'japan india', 'jawad akram', 'jcc meeting', 'jeff smith', 'jenca reported', 'jiechi chinese', 'jinping ambitious', 'jinping in', 'jinping said', 'jinping vision', 'jinping visited', 'jiwani is', 'jiwani located', 'job of', 'join its', 'join obor', 'join the', 'join two', 'joining china', 'joint cooperation', 'joint effort', 'joint efforts', 'joint security', 'joint venture', 'joint working', 'jointly by', 'jointly developed', 'jolt to', 'journalists later', 'journalists yesterday', 'judges and', 'july when', 'just and', 'just come', 'just one', 'just the', 'justice foreign', 'jwg meeting', 'kang told', 'karachi chinese', 'karachi circular', 'karachi in', 'karachi is', 'karachi leading', 'karachi media', 'karachi pakistan', 'karakarom highway', 'karakoram highway', 'kashmir and', 'kashmir china', 'kashmir described', 'kashmir during', 'kashmir issue', 'kashmir it', 'kashmir nathu', 'kashmir pok', 'kashmir the', 'kashmir there', 'kashmir we', 'keen to', 'keep the', 'keeper of', 'keqiang lounge', 'key partner', 'key projects', 'key role', 'key to', 'khan afridi', 'khan janjua', 'khan zhob', 'khaqan abbasi', 'khawaja asif', 'khawaja muhammad', 'khuzdar basima', 'killed around', 'killed executive', 'killed on', 'killing of', 'kilometres thick', 'kkh bridges', 'kkh from', 'km dera', 'km from', 'km karakarom', 'km khuzdar', 'km long', 'km of', 'km remaining', 'known about', 'known as', 'kong based', 'kong said', 'kugelman beijing', 'kugelman deputy', 'kugelman said', 'kugelman wrote', 'kulbhushan jadhav', 'la pass', 'lack of', 'lama he', 'land acquisition', 'land because', 'landscape the', 'lanka an', 'lanka and', 'large for', 'largely by', 'largest neighbour', 'lashed out', 'last 15', 'last big', 'last fall', 'last few', 'last major', 'last month', 'last october', 'last three', 'last week', 'last year', 'lasting peace', 'later swaraj', 'latter economic', 'lauding the', 'launched in', 'launched major', 'lavrov also', 'lavrov said', 'lavrov swaraj', 'law and', 'law geng', 'lawmakers during', 'lawmakers while', 'lead role', 'lead to', 'leader asad', 'leader mehran', 'leader who', 'leaders acknowledged', 'leaders all', 'leaders are', 'leaders as', 'leaders have', 'leaders of', 'leaders while', 'leadership has', 'leading to', 'lease gwadar', 'lease of', 'least three', 'leave its', 'leaving any', 'leaving china', 'leaving pakistani', 'led and', 'led forces', 'left officials', 'left stunned', 'left them', 'left to', 'legislators who', 'legitimate rights', 'let do', 'letter from', 'level addressing', 'level dialogue', 'level his', 'level of', 'leveraged its', 'li keqiang', 'lies and', 'lies deceit', 'life he', 'lifted out', 'light of', 'lighter footprint', 'like again', 'like belt', 'like masood', 'like our', 'like pakistan', 'like punitive', 'like the', 'like to', 'likely hit', 'likely to', 'limited and', 'limited still', 'line agreed', 'line would', 'lines and', 'lines praised', 'link for', 'link of', 'linked not', 'linking china', 'linking it', 'linking terrorism', 'links china', 'links its', 'listed out', 'little help', 'live all', 'live better', 'livelihood they', 'living at', 'living below', 'loan security', 'loans in', 'located close', 'locked up', 'logistics facilities', 'london taking', 'london taxi', 'long dera', 'long khuzdar', 'long running', 'long term', 'longer term', 'look at', 'looking exchange', 'looking is', 'loop so', 'lot at', 'lot more', 'lot of', 'lounge chat', 'lowering instruments', 'lt gen', 'lu kang', 'lu said', 'luo publicly', 'luo statement', 'luo to', 'luo zhaohui', 'lurking in', 'made by', 'made chinese', 'made clear', 'made enormous', 'made he', 'made important', 'made people', 'made plan', 'made really', 'made significant', 'made successful', 'made this', 'made very', 'magnitude in', 'magnitude quake', 'mainly driven', 'maintain normal', 'maintain that', 'maintained that', 'major chinese', 'major counterterrorism', 'major country', 'major earthquake', 'major energy', 'major hindrances', 'major international', 'major irritants', 'major jolt', 'major problem', 'major road', 'make everything', 'make it', 'make of', 'make progress', 'make significant', 'making anti', 'making foolproof', 'making history', 'making peaceful', 'makran trench', 'maldives and', 'maldives as', 'maldives can', 'maldives figured', 'maldives for', 'maldives foreign', 'maldives government', 'maldives has', 'maldives however', 'maldives including', 'maldives instead', 'maldives is', 'maldives maintain', 'maldives president', 'maldives situation', 'maldives the', 'maldives this', 'maldives to', 'maldives wang', 'manage situations', 'manage the', 'management of', 'manages to', 'managing director', 'manifestations the', 'manifests china', 'manila india', 'manila last', 'mantra between', 'manufacture critical', 'many of', 'many times', 'maritime silk', 'market and', 'market to', 'markets and', 'marri described', 'marri has', 'marri said', 'marri squarely', 'masood azhar', 'massive earthquake', 'may allow', 'may be', 'may delay', 'may deteriorate', 'may enable', 'may have', 'may move', 'may seem', 'may stipulate', 'may target', 'may whereas', 'meant for', 'meant to', 'measure by', 'measures to', 'mechanism analysts', 'mechanism and', 'mechanism media', 'mechanism of', 'mechanism said', 'mechanism to', 'media briefing', 'media has', 'media is', 'media report', 'media reports', 'mediate between', 'meet again', 'meet the', 'meeting and', 'meeting as', 'meeting between', 'meeting confirmed', 'meeting consensus', 'meeting creating', 'meeting during', 'meeting having', 'meeting held', 'meeting igp', 'meeting in', 'meeting of', 'meeting on', 'meeting point', 'meeting that', 'meeting today', 'meeting un', 'meeting was', 'meeting when', 'meeting with', 'mega connectivity', 'mehran marri', 'member of', 'members as', 'members of', 'men who', 'menace of', 'mention of', 'mentioned by', 'merely an', 'message from', 'message on', 'message to', 'messaging is', 'met to', 'met wang', 'michael kugelman', 'militants hundreds', 'militants leading', 'militants on', 'military aid', 'military and', 'military at', 'military base', 'military could', 'military facilities', 'military financing', 'military interests', 'military is', 'military launched', 'military on', 'military platforms', 'millenniums to', 'million aid', 'million in', 'million military', 'million people', 'minister ahsan', 'minister alleged', 'minister also', 'minister and', 'minister as', 'minister for', 'minister informed', 'minister khawaja', 'minister mohamed', 'minister narendra', 'minister nawaz', 'minister of', 'minister said', 'minister sergey', 'minister shahid', 'minister stated', 'minister sushma', 'minister wang', 'ministerial dialogue', 'ministerial here', 'ministers of', 'ministry also', 'ministry as', 'ministry directives', 'ministry has', 'ministry neither', 'ministry not', 'ministry on', 'ministry recently', 'ministry said', 'ministry spokesman', 'ministry spokesperson', 'ministry spokeswoman', 'ministry statement', 'miroslav jenca', 'mirqab capital', 'misdeeds with', 'missile and', 'missile defence', 'missile faisal', 'missile systems', 'mitigate some', 'modalities for', 'modi and', 'modi had', 'modi li', 'modi xi', 'modus operandi', 'mohamed saeed', 'mohammad faisal', 'momentary hurdles', 'monday after', 'monday he', 'monday it', 'monday pitched', 'monday said', 'monday saying', 'monday termed', 'monday that', 'monday the', 'monday they', 'monitored and', 'month but', 'month lowering', 'month to', 'months but', 'months sources', 'more about', 'more comfortable', 'more cooperative', 'more countries', 'more favourable', 'more following', 'more he', 'more plain', 'more power', 'more prosperous', 'more than', 'more we', 'morning post', 'moscow opposition', 'most positive', 'most pressing', 'most western', 'motives to', 'mounting pressure', 'move it', 'move to', 'movements of', 'moves we', 'much at', 'much is', 'much lighter', 'much longer', 'much smaller', 'much talked', 'much wider', 'muhammad asif', 'multi billion', 'must be', 'must take', 'mutual benefit', 'mutual respect', 'mutual trust', 'mutual understanding', 'muzammil hussain', 'mw coal', 'my father', 'myanmar are', 'name in', 'name india', 'name of', 'narendra modi', 'nasser khan', 'nathu la', 'nation and', 'nation so', 'nation that', 'national assembly', 'national chen', 'national highway', 'national in', 'national institute', 'national interest', 'national interests', 'national iqbal', 'national security', 'national stability', 'nationalist leader', 'nationalist leaders', 'nationalists from', 'nationals in', 'nations enhancing', 'natural disasters', 'natural for', 'natural gas', 'naval base', 'navy given', 'nawaz sharif', 'near gwadar', 'near the', 'nearly 40', 'nearly 400', 'nearly 50', 'nearly 60', 'necessary measures', 'necessary procedural', 'need for', 'need to', 'needed to', 'needs access', 'needs boost', 'nefarious designs', 'negotiate with', 'negotiating with', 'neighbour country', 'neighbour of', 'neighbour to', 'neighbouring countries', 'neighbours china', 'neighbours should', 'neighbours through', 'neither endorsed', 'nepal and', 'nepal but', 'nepal to', 'nervous over', 'net provider', 'network china', 'network of', 'network under', 'new dam', 'new delhi', 'new energy', 'new financial', 'new guidelines', 'new mantra', 'new modus', 'new procedures', 'new year', 'news agency', 'news reports', 'newspaper quoted', 'newspaper reported', 'newspaper that', 'newspaper the', 'next catastrophic', 'next high', 'nha and', 'nha he', 'nha it', 'nha official', 'nha road', 'nha spokesman', 'nha spokesperson', 'nha the', 'nikki haley', 'nio director', 'nio in', 'no avail', 'no doubt', 'no more', 'no nation', 'no one', 'no proposal', 'no reports', 'non interference', 'non proliferation', 'non resident', 'nor denied', 'normal and', 'normal order', 'not about', 'not affect', 'not aimed', 'not ask', 'not back', 'not be', 'not clear', 'not conducive', 'not contradicting', 'not convince', 'not directed', 'not directly', 'not expressing', 'not find', 'not formally', 'not hope', 'not ignore', 'not impact', 'not in', 'not interested', 'not interfere', 'not made', 'not make', 'not much', 'not only', 'not plan', 'not push', 'not resolve', 'not responded', 'not seek', 'not solve', 'not stopped', 'not succeed', 'not sway', 'not targeted', 'not the', 'not through', 'not to', 'not true', 'not upset', 'not used', 'not want', 'not yet', 'noted pakistan', 'noted that', 'noted the', 'nothing but', 'nothing to', 'noting that', 'november 20', 'november 29', 'november at', 'november meeting', 'now envisages', 'now the', 'now we', 'nsa ajit', 'nsa stressed', 'nsg or', 'nuclear restraint', 'nuclear suppliers', 'nuclear war', 'number of', 'numerous problems', 'objected to', 'objection to', 'objections as', 'objections to', 'obligations and', 'obor connectivity', 'obor due', 'obor forum', 'obor growth', 'obor is', 'obor lavrov', 'obor passes', 'obor while', 'observers here', 'observers said', 'obstacles for', 'occasionally rub', 'occupied kashmir', 'occurred along', 'ocean and', 'ocean as', 'ocean asked', 'ocean he', 'ocean rim', 'ocean were', 'oceanography nio', 'oceanology in', 'october chinese', 'october two', 'of 2018', 'of about', 'of afghanistan', 'of africa', 'of alleged', 'of an', 'of anonymity', 'of anti', 'of april', 'of around', 'of at', 'of backward', 'of balochistan', 'of being', 'of both', 'of building', 'of celebrating', 'of china', 'of chinese', 'of common', 'of consensus', 'of conspiring', 'of continued', 'of conventional', 'of conveying', 'of cooperation', 'of corruption', 'of counter', 'of countries', 'of covering', 'of cpec', 'of cracking', 'of dangerous', 'of development', 'of disputes', 'of doing', 'of downplayed', 'of ensuring', 'of equality', 'of every', 'of expectations', 'of finger', 'of fooling', 'of force', 'of foreign', 'of foreigners', 'of fractured', 'of friendship', 'of funds', 'of gilgit', 'of giving', 'of global', 'of gwadar', 'of hambantota', 'of his', 'of hong', 'of important', 'of india', 'of indian', 'of infrastructure', 'of international', 'of issues', 'of its', 'of joint', 'of karachi', 'of karakarom', 'of kashmir', 'of law', 'of lies', 'of living', 'of magnitude', 'of making', 'of maldives', 'of massive', 'of more', 'of moscow', 'of mutual', 'of national', 'of new', 'of nuclear', 'of oceanography', 'of oceanology', 'of official', 'of oklahoma', 'of one', 'of our', 'of over', 'of pakistan', 'of pakistani', 'of pearls', 'of police', 'of port', 'of possible', 'of poverty', 'of power', 'of prime', 'of pro', 'of projects', 'of proportion', 'of proximity', 'of public', 'of punjab', 'of questions', 'of regional', 'of relations', 'of release', 'of religious', 'of renaming', 'of reports', 'of resources', 'of responsibility', 'of restraint', 'of rhetoric', 'of rising', 'of road', 'of roads', 'of rs', 'of sciences', 'of security', 'of several', 'of sheltering', 'of shipping', 'of soft', 'of starting', 'of such', 'of tax', 'of technology', 'of ten', 'of terrorism', 'of terrorist', 'of that', 'of the', 'of them', 'of these', 'of third', 'of this', 'of three', 'of ties', 'of us', 'of usd', 'of using', 'of various', 'of view', 'of violent', 'of washington', 'of world', 'of xinjiang', 'of years', 'off between', 'off the', 'offensive the', 'offer more', 'offer sobering', 'offer to', 'offered selfless', 'offered to', 'office fo', 'office in', 'office of', 'office resulting', 'official added', 'official and', 'official delegations', 'official media', 'official of', 'official rejected', 'official remarks', 'official said', 'official sources', 'official the', 'official told', 'official was', 'officially continues', 'officials and', 'officials however', 'officials in', 'officials of', 'officials realise', 'officials said', 'officials stunned', 'officials to', 'officials visited', 'officials were', 'oklahoma shah', 'old managing', 'oman and', 'on 40', 'on all', 'on board', 'on border', 'on certain', 'on china', 'on condition', 'on conditions', 'on construction', 'on cooperation', 'on counter', 'on cpec', 'on december', 'on domestic', 'on eight', 'on envisioned', 'on expected', 'on exports', 'on friday', 'on graft', 'on highway', 'on improving', 'on india', 'on instructions', 'on iron', 'on islamabad', 'on issues', 'on its', 'on karakoram', 'on kashmir', 'on land', 'on london', 'on monday', 'on new', 'on november', 'on nsg', 'on obor', 'on one', 'on our', 'on pakistan', 'on pakistani', 'on pakistanthe', 'on particular', 'on political', 'on record', 'on reports', 'on republic', 'on saturday', 'on sunday', 'on tackling', 'on technical', 'on terror', 'on the', 'on them', 'on thursday', 'on trump', 'on tuesday', 'on wednesday', 'on white', 'on wide', 'one after', 'one and', 'one belt', 'one event', 'one hand', 'one happens', 'one if', 'one of', 'one party', 'one plate', 'one road', 'one such', 'one was', 'one we', 'one which', 'ones on', 'only after', 'only and', 'only concern', 'only geographically', 'only improve', 'only india', 'only on', 'only possible', 'only the', 'only three', 'onto pakistan', 'open ended', 'open for', 'open initiative', 'open market', 'open on', 'open the', 'opened for', 'opening up', 'operandi for', 'operation of', 'operational privately', 'operationalised can', 'operations of', 'operations were', 'opportunity of', 'oppose bri', 'opposed as', 'opposed linking', 'opposed the', 'opposed to', 'opposite he', 'opposition cpec', 'opposition of', 'opposition to', 'opted for', 'or cpec', 'or disturbed', 'or individual', 'or nepal', 'or on', 'or perhaps', 'or respond', 'or the', 'or tsunami', 'order as', 'order in', 'order independently', 'ore and', 'organisations and', 'organized crime', 'originally all', 'originally part', 'other countries', 'other in', 'other members', 'other nation', 'other officials', 'other police', 'other project', 'other the', 'other things', 'other this', 'others issues', 'otherwise fractured', 'our all', 'our best', 'our cadres', 'our country', 'our friends', 'our general', 'our goal', 'our interests', 'our leaders', 'our mutual', 'our national', 'our neighbour', 'our people', 'our pharmaceutical', 'our position', 'our potential', 'our relationship', 'our rightful', 'our sense', 'our solemn', 'our terms', 'our territorial', 'our top', 'our understanding', 'out at', 'out china', 'out forcefully', 'out he', 'out india', 'out more', 'out national', 'out of', 'out reform', 'out shared', 'out the', 'out to', 'out union', 'out various', 'outburst by', 'outfit known', 'outfits cannot', 'outstanding contribution', 'outstanding issues', 'over 1trillion', 'over 50', 'over 650', 'over islamabad', 'over pakistan', 'over rs', 'over sovereignty', 'over the', 'over trillion', 'over which', 'overcome such', 'overseeing the', 'overstated given', 'overtures so', 'own development', 'own pace', 'owned afghan', 'ownership of', 'pace while', 'pacific region', 'package to', 'pakistan ability', 'pakistan about', 'pakistan actions', 'pakistan against', 'pakistan aimed', 'pakistan also', 'pakistan always', 'pakistan and', 'pakistan anti', 'pakistan are', 'pakistan army', 'pakistan as', 'pakistan at', 'pakistan balochistan', 'pakistan baluchistan', 'pakistan based', 'pakistan being', 'pakistan but', 'pakistan by', 'pakistan cannot', 'pakistan china', 'pakistan chinese', 'pakistan continuously', 'pakistan counter', 'pakistan denies', 'pakistan doesn', 'pakistan economic', 'pakistan encountered', 'pakistan engaging', 'pakistan for', 'pakistan government', 'pakistan had', 'pakistan has', 'pakistan have', 'pakistan he', 'pakistan in', 'pakistan insurgency', 'pakistan interior', 'pakistan iqbal', 'pakistan is', 'pakistan it', 'pakistan janjua', 'pakistan lavrov', 'pakistan level', 'pakistan lu', 'pakistan may', 'pakistan minister', 'pakistan more', 'pakistan name', 'pakistan national', 'pakistan occupied', 'pakistan of', 'pakistan oman', 'pakistan position', 'pakistan prime', 'pakistan read', 'pakistan refused', 'pakistan regarding', 'pakistan relationship', 'pakistan saying', 'pakistan security', 'pakistan since', 'pakistan soon', 'pakistan strategic', 'pakistan supply', 'pakistan tehreek', 'pakistan tensions', 'pakistan that', 'pakistan the', 'pakistan they', 'pakistan to', 'pakistan today', 'pakistan trump', 'pakistan under', 'pakistan us', 'pakistan was', 'pakistan water', 'pakistan we', 'pakistan were', 'pakistan where', 'pakistan whose', 'pakistan will', 'pakistan would', 'pakistani army', 'pakistani authorities', 'pakistani deep', 'pakistani high', 'pakistani leaders', 'pakistani leadership', 'pakistani legislators', 'pakistani military', 'pakistani officials', 'pakistani port', 'pakistani prime', 'pakistani rupees', 'pakistani side', 'pakistani soil', 'pakistani supreme', 'pakistanin his', 'pakistanis also', 'pakistanis we', 'pakistanthe us', 'panama papers', 'papers the', 'parliament that', 'parliamentary committee', 'part because', 'part in', 'part india', 'part of', 'part wang', 'participated by', 'participating in', 'participation in', 'participation of', 'participation showed', 'participation the', 'particular country', 'particularly those', 'particularly upset', 'parties and', 'parties can', 'parties he', 'parties will', 'partner for', 'partners we', 'partnership between', 'partnership has', 'partnership more', 'partnership with', 'party alone', 'party and', 'party the', 'party we', 'pass or', 'passes through', 'passport office', 'past 10', 'past answering', 'past due', 'past forty', 'past us', 'past year', 'path to', 'path we', 'pay back', 'pay but', 'pay serious', 'peace and', 'peace between', 'peace contributor', 'peace in', 'peace process', 'peace to', 'peaceful future', 'peaceful reconstruction', 'peaceful settlement', 'peaceful transition', 'pearls of', 'pending necessary', 'people and', 'people are', 'people from', 'people have', 'people he', 'people in', 'people is', 'people last', 'people most', 'people of', 'people state', 'people there', 'people well', 'peoples in', 'per cent', 'per se', 'per the', 'performance is', 'perhaps should', 'persist about', 'personal views', 'personnel and', 'personnel for', 'persons in', 'perspective and', 'perspective look', 'perspective when', 'peshawar would', 'pharmaceutical and', 'pharmaceutical imports', 'pharmaceuticals and', 'phase of', 'picked up', 'pitched for', 'pla naval', 'place since', 'place the', 'placed on', 'plain speaking', 'plan to', 'plan which', 'planned network', 'planners inam', 'planning and', 'plans for', 'plans to', 'plant at', 'plant built', 'plant has', 'plant think', 'plate is', 'plates and', 'platform has', 'platform in', 'platforms in', 'play constructive', 'play helpful', 'play positive', 'play significant', 'playing key', 'pledged to', 'pledges to', 'pledging the', 'plurilateral format', 'point for', 'point of', 'point plan', 'pointed out', 'pointing at', 'points for', 'pok and', 'pok asked', 'pok cpec', 'pok it', 'pok responding', 'pok the', 'police and', 'police described', 'police sabir', 'police to', 'policy of', 'policy to', 'policymakers have', 'political achievement', 'political civilian', 'political differences', 'political issues', 'political observers', 'political office', 'political process', 'political turmoil', 'political volatile', 'politically and', 'politicians to', 'politicised and', 'port and', 'port connectivity', 'port facilities', 'port if', 'port in', 'port is', 'port of', 'port on', 'port qasim', 'port should', 'port the', 'port which', 'portion of', 'pose clear', 'pose threats', 'position as', 'position on', 'position the', 'positive as', 'positive of', 'positive points', 'positive role', 'possibility china', 'possibility of', 'possible and', 'possible terrorist', 'possible through', 'post doklam', 'post reported', 'post the', 'posters also', 'postulated the', 'potential abbasi', 'potential disaster', 'poverty among', 'poverty china', 'poverty line', 'poverty will', 'poverty xi', 'power china', 'power development', 'power in', 'power is', 'power it', 'power plant', 'powers india', 'praised china', 'praised pakistan', 'preaching christianity', 'precondition for', 'preference over', 'prepare for', 'prepared to', 'presence in', 'presence of', 'present danger', 'present day', 'present our', 'president abdulla', 'president donald', 'president has', 'president trump', 'president xi', 'presidents saying', 'press conference', 'press release', 'pressing concerns', 'pressure from', 'pressure india', 'pressure on', 'pressure pakistan', 'prestigious one', 'previous one', 'previous procedure', 'prime minister', 'principle enshrined', 'principle of', 'priority he', 'priority over', 'prism of', 'prisoner kulbhushan', 'private conversations', 'privately however', 'privately pakistanis', 'pro china', 'problem for', 'problem in', 'problem independently', 'problem we', 'problems for', 'problems he', 'problems in', 'problems with', 'problems you', 'procedural formalities', 'procedure for', 'procedure of', 'procedure the', 'procedures could', 'process afghanistan', 'process and', 'process giving', 'process help', 'process is', 'products all', 'products and', 'professor huang', 'professor in', 'program at', 'programme and', 'programme but', 'progress has', 'progress in', 'progress over', 'project also', 'project and', 'project extension', 'project from', 'project had', 'project has', 'project he', 'project in', 'project is', 'project it', 'project media', 'project of', 'project on', 'project participated', 'project passes', 'project privately', 'project report', 'project serves', 'project should', 'project the', 'project to', 'project under', 'project was', 'project which', 'project will', 'project without', 'project would', 'projects also', 'projects and', 'projects are', 'projects as', 'projects because', 'projects being', 'projects but', 'projects by', 'projects for', 'projects had', 'projects have', 'projects in', 'projects like', 'projects linking', 'projects may', 'projects of', 'projects only', 'projects pakistan', 'projects particularly', 'projects representatives', 'projects step', 'projects team', 'projects that', 'projects the', 'projects to', 'projects under', 'projects were', 'projects would', 'proliferation regimes', 'prominently chinese', 'promise only', 'promote and', 'promote connectivity', 'promote joint', 'promote regional', 'promote the', 'promoting regional', 'prompted the', 'propaganda against', 'propaganda reports', 'propaganda to', 'proper solution', 'properly resolve', 'properly resolved', 'proportion the', 'proposal of', 'proposed several', 'prosperity according', 'prosperous peaceful', 'protect the', 'protection he', 'protection of', 'protocol for', 'provide assistance', 'provider of', 'providing china', 'providing critical', 'providing energy', 'providing safe', 'province for', 'province india', 'province it', 'province media', 'province of', 'province one', 'province providing', 'province the', 'province there', 'province through', 'province where', 'province with', 'provinces because', 'provincial government', 'provoke an', 'proximity and', 'pti after', 'pti here', 'pti on', 'public concern', 'public health', 'publicly complaining', 'publicly discussed', 'published in', 'published on', 'published today', 'punitive measure', 'punjab and', 'punjab back', 'punjab of', 'punjab province', 'pursuing economic', 'push for', 'push it', 'push its', 'pushed under', 'put the', 'put this', 'puts forth', 'qaeda marri', 'qasim in', 'qasim plant', 'qatar al', 'qatar in', 'qatar participation', 'quadrilateral alliance', 'quadrilateral grouping', 'quake hit', 'quest is', 'question about', 'question foreign', 'question from', 'question on', 'question to', 'question whether', 'questioned the', 'questions on', 'questions persist', 'questions remain', 'quetta and', 'quetta india', 'quite disturbed', 'quite rare', 'quoted as', 'quoted by', 'quoted minister', 'quoted pakistan', 'quoted press', 'quoting minister', 'rabbani respectively', 'race we', 'raikot to', 'rail and', 'railway project', 'railways and', 'raise this', 'raised objections', 'raised some', 'raised the', 'rampant graft', 'range of', 'ranging from', 'rant against', 'rare lot', 'rather its', 'ravaged country', 're accusing', 're examine', 'reach directly', 'reached lot', 'reached on', 'reached the', 'reaction comes', 'reaction to', 'read also', 'read this', 'ready for', 'ready to', 'reaffirmed their', 'real questions', 'realise that', 'realise the', 'realising that', 'really dramatic', 'reason behind', 'reason beijing', 'reason to', 'reassert control', 'reassure pakistan', 'rebels have', 'received letter', 'receiving approval', 'receiving the', 'recent developments', 'recent months', 'recent past', 'recent target', 'recent years', 'recently in', 'recently said', 'recognise the', 'reconciliation peace', 'reconstruction and', 'record pakistan', 'record to', 'recorder these', 'reduce the', 'reference to', 'referring to', 'reform and', 'reform as', 'reform in', 'refusal to', 'refused chinese', 'refused to', 'refusing to', 'regard are', 'regard geng', 'regard noted', 'regard should', 'regarding corruption', 'regarding the', 'regimes even', 'region afghanistan', 'region also', 'region and', 'region as', 'region cannot', 'region free', 'region had', 'region hangs', 'region he', 'region of', 'region on', 'region promote', 'region refusing', 'region that', 'region where', 'region will', 'region with', 'regional and', 'regional connectivity', 'regional context', 'regional economic', 'regional issues', 'regional peace', 'regional stability', 'regional trade', 'reiterated our', 'rejected as', 'rejected the', 'related to', 'relations between', 'relations committee', 'relations india', 'relations sources', 'relations the', 'relations with', 'relationship and', 'relationship bambawale', 'relationship between', 'relationship but', 'relationship for', 'relationship he', 'relationship including', 'relationship through', 'relationship with', 'relationships have', 'relationships to', 'relationships with', 'relatives were', 'release by', 'release funds', 'release of', 'release would', 'released after', 'released in', 'released the', 'relevant parties', 'relevant report', 'religious extremism', 'remain an', 'remain diplomatically', 'remain firmly', 'remain state', 'remain strong', 'remain unanswered', 'remaining 136', 'remaining portion', 'remains our', 'remarks that', 'removal of', 'remove restrictions', 'rename the', 'renaming cpec', 'rendered in', 'repeated by', 'repeatedly extended', 'repeatedly reiterated', 'reply to', 'replying to', 'report argues', 'report by', 'report concludes', 'report cpec', 'report had', 'report in', 'report on', 'report postulated', 'report published', 'report quoted', 'report regarding', 'report said', 'report the', 'reported according', 'reported addressing', 'reported any', 'reported india', 'reported last', 'reported that', 'reported the', 'reported to', 'reporters here', 'reports about', 'reports confirm', 'reports from', 'reports in', 'reports of', 'reports published', 'reports said', 'reports that', 'representatives of', 'republic day', 'request marri', 'requested by', 'research fellow', 'researchers from', 'reserves in', 'resident scholar', 'residents living', 'resolutely carry', 'resolutely uphold', 'resolve and', 'resolve any', 'resolve issues', 'resolve problems', 'resolve the', 'resolve their', 'resolve them', 'resolved through', 'resolved with', 'resolving political', 'resolving the', 'resource rich', 'resources and', 'resources limited', 'respect he', 'respect instead', 'respect she', 'respect so', 'respect sovereignty', 'respect the', 'respective concerns', 'respectively attended', 'respond well', 'responded to', 'responding to', 'response to', 'responsibility and', 'responsibility of', 'responsibility while', 'responsible major', 'restart after', 'restarted the', 'restive xinjiang', 'restore the', 'restraint and', 'restraint measures', 'restricted to', 'restriction on', 'restrictions on', 'resulted in', 'resulting in', 'results will', 'retd nasser', 'retorted saying', 'return for', 'return it', 'revenue from', 'review another', 'review pakistan', 'review security', 'reviewed in', 'reviewing the', 'revised its', 'revising the', 'revive trade', 'rhetoric against', 'rhetoric and', 'ric ministerial', 'ric trilateral', 'rich area', 'rich xinjiang', 'rightful independent', 'rights and', 'rights on', 'rim and', 'rise of', 'rising powers', 'rising tensions', 'risk in', 'risks to', 'road and', 'road at', 'road being', 'road building', 'road has', 'road having', 'road initiative', 'road links', 'road network', 'road obor', 'road passes', 'road project', 'road projects', 'road rail', 'road the', 'road while', 'roads mentioned', 'roads railways', 'rohingya are', 'rohingya issues', 'role for', 'role in', 'role of', 'roll back', 'rooted in', 'roughly 40', 'round cooperation', 'route after', 'route had', 'route including', 'route the', 'routes in', 'row prisoner', 'rs 15', 'rs 19', 'rs 66', 'rs 81', 'rs billion', 'rs tn', 'rs trillion', 'rub up', 'rule of', 'rule out', 'ruled out', 'run global', 'run xinhua', 'running spat', 'runs high', 'rupees worth', 'rupture its', 'rural residents', 'russia and', 'russia feels', 'russia he', 'russia india', 'russia on', 'russian agents', 'russian foreign', 'sabir ahmed', 'sabotage the', 'sabotaging cpec', 'sacrifice for', 'sacrifice your', 'sacrifices and', 'sacrifices it', 'sacrificing its', 'saeed according', 'saeed china', 'saeed in', 'saeed sought', 'saeed to', 'saeed told', 'safe haven', 'safe havens', 'safety last', 'said according', 'said actually', 'said adding', 'said afghanistan', 'said almost', 'said among', 'said aquil', 'said as', 'said asif', 'said associate', 'said bambawale', 'said beijing', 'said bri', 'said but', 'said can', 'said china', 'said countries', 'said cpec', 'said during', 'said every', 'said faisal', 'said for', 'said further', 'said gilgit', 'said he', 'said here', 'said his', 'said hua', 'said huang', 'said in', 'said india', 'said international', 'said iqbal', 'said issues', 'said it', 'said jeff', 'said kashmir', 'said maldives', 'said marri', 'said media', 'said new', 'said non', 'said noting', 'said on', 'said our', 'said pakistan', 'said pakistani', 'said referring', 'said reports', 'said russia', 'said saeed', 'said scientific', 'said senior', 'said she', 'said smith', 'said sustainable', 'said that', 'said the', 'said there', 'said these', 'said they', 'said this', 'said though', 'said to', 'said today', 'said trilateral', 'said under', 'said us', 'said was', 'said we', 'said when', 'said why', 'salahuddin rabbani', 'same time', 'saturday to', 'say is', 'say on', 'say that', 'say us', 'say xi', 'saying by', 'saying goes', 'saying in', 'saying iqbal', 'saying it', 'saying that', 'saying the', 'saying use', 'scan of', 'scathing attack', 'scathing criticism', 'scholar has', 'scholar in', 'school of', 'sciences said', 'scientific expeditions', 'scientific questions', 'scientists from', 'scientists say', 'scrapped the', 'se but', 'sea and', 'sea institute', 'sea port', 'sea the', 'sea where', 'seared bilateral', 'second five', 'second jolt', 'second major', 'secretariat as', 'secretary general', 'secretary jawad', 'sectors and', 'secure our', 'secure victories', 'secured 99', 'security advisor', 'security architecture', 'security arrangements', 'security assistance', 'security concerns', 'security council', 'security czar', 'security he', 'security health', 'security here', 'security in', 'security mechanism', 'security of', 'security on', 'security problems', 'security protocol', 'security risks', 'security situation', 'security threats', 'sediment several', 'see beijing', 'see india', 'see pakistan', 'seek proper', 'seek to', 'seeking to', 'seeks to', 'seem like', 'seemed to', 'seems to', 'seen as', 'seen from', 'seen in', 'sees the', 'seismically active', 'seismologist yang', 'self implode', 'selfless assistance', 'sells pharmaceuticals', 'seminar on', 'senate that', 'senior administration', 'senior associate', 'senior government', 'senior nha', 'senior pakistani', 'sense of', 'sensitive the', 'sent his', 'sent official', 'sent officials', 'sentiment already', 'sentiments in', 'separatist insurgency', 'separatist rebels', 'sergey lavrov', 'serious attention', 'serious problems', 'serves no', 'serves the', 'services he', 'services political', 'setbacks and', 'settlement of', 'several cabinet', 'several kilometres', 'several missile', 'several projects', 'shah non', 'shah said', 'shahid khaqan', 'shape to', 'share of', 'shared future', 'shares close', 'sharif and', 'sharif on', 'sharif unfit', 'she added', 'she asked', 'she raised', 'she said', 'she was', 'shelter at', 'sheltering taliban', 'sheltering terrorists', 'shift the', 'ship navy', 'shipping company', 'shipping firm', 'shipping told', 'shook the', 'short of', 'shortages stability', 'shot at', 'shot dead', 'shot in', 'shot two', 'should acknowledge', 'should ask', 'should be', 'should discuss', 'should follow', 'should further', 'should have', 'should leave', 'should not', 'should pay', 'should put', 'should raise', 'should remove', 'should respect', 'should stop', 'should strengthen', 'showed that', 'shows and', 'shows that', 'shuang said', 'shuang told', 'sichuan university', 'side can', 'side did', 'side in', 'side is', 'side she', 'side was', 'sided with', 'sidelines of', 'sides airing', 'sides geng', 'sides have', 'sides pledged', 'sides reaffirmed', 'sides the', 'sides we', 'signal of', 'signed documents', 'significant because', 'significant contribution', 'significant from', 'significant progress', 'significant role', 'silk road', 'similar posters', 'similar projects', 'similar to', 'since 1947', 'since 2014', 'since it', 'since pakistan', 'since the', 'since then', 'since us', 'sincerity and', 'singapore india', 'singapore on', 'situation ahead', 'situation and', 'situation at', 'situation in', 'situation the', 'situation tibet', 'situations when', 'six different', 'smaller projects', 'smaller provinces', 'smaller than', 'smart diplomats', 'smith commended', 'smith research', 'smith said', 'smooth china', 'so as', 'so beware', 'so difficult', 'so far', 'so now', 'so on', 'so that', 'so the', 'so there', 'sobering appraisal', 'social development', 'social order', 'social security', 'soft sediment', 'soil and', 'soil he', 'soil of', 'soil the', 'soils for', 'solemn promise', 'solution for', 'solution she', 'solution so', 'solve the', 'solve this', 'solved at', 'some of', 'some projects', 'some technical', 'some ways', 'something that', 'something to', 'soon after', 'soon as', 'soon to', 'sort of', 'sought china', 'sounding critical', 'sources at', 'sources said', 'sources told', 'south asia', 'south asian', 'south china', 'south chinese', 'south coast', 'southern balochistan', 'southern city', 'sovereignty and', 'sovereignty concerns', 'sovereignty disputes', 'sovereignty he', 'sovereignty in', 'sovereignty issue', 'sparked concerns', 'spat between', 'spate of', 'speaking as', 'speaking at', 'special envoy', 'special forces', 'specially in', 'specific problem', 'spectrum sources', 'speculating that', 'speech in', 'spend the', 'spent on', 'spokesman announced', 'spokesman geng', 'spokesman lu', 'spokesman mohammad', 'spokesperson geng', 'spokesperson had', 'spokesperson hua', 'spokeswoman hua', 'spread of', 'squarely blamed', 'sri lanka', 'stability and', 'stability china', 'stability in', 'stability of', 'stage he', 'stake he', 'stake the', 'stakeholder including', 'stance on', 'stand off', 'stand on', 'stand ready', 'standards and', 'standoff at', 'standoff from', 'standoff is', 'stands ready', 'started supporting', 'started to', 'starting from', 'state marri', 'state of', 'state run', 'stated concerns', 'stated that', 'statement by', 'statement suggesting', 'statement was', 'statement which', 'statements by', 'states does', 'states had', 'states has', 'states should', 'status of', 'stay committed', 'step by', 'step to', 'step up', 'stepped up', 'steps being', 'steps to', 'stern message', 'still given', 'still limited', 'stipulate greater', 'stockpiling range', 'stop funding', 'stop hurling', 'stopped financing', 'stopped funding', 'story in', 'strategic competitor', 'strategic cpec', 'strategic gwadar', 'strategic interest', 'strategies to', 'strategists were', 'strategy will', 'strengthen anti', 'strengthen connectivity', 'strengthen cooperation', 'strengthen our', 'strengthen partnership', 'strengthened with', 'strengthening its', 'strengthening of', 'strengths to', 'strenuous opposition', 'stressed huang', 'stressed many', 'stressed that', 'stressed these', 'stretching nearly', 'strike deal', 'string of', 'stringent pakistan', 'strive for', 'strong desire', 'strong force', 'strong message', 'strong objection', 'strong us', 'strong with', 'stronger in', 'structure the', 'struggle for', 'studies at', 'studies but', 'studies efsas', 'stunned media', 'stunned pakistan', 'stunned when', 'subduction zone', 'subject of', 'subsided in', 'subversive activities', 'succeed and', 'success given', 'success of', 'successful the', 'successfully leveraged', 'such as', 'such assistance', 'such conspiracies', 'such harsh', 'such issues', 'such long', 'such momentary', 'such outfit', 'such ventures', 'suggested improving', 'suggested that', 'suggesting that', 'suggests that', 'suggests the', 'suitable for', 'sunday the', 'sunday xi', 'suppliers group', 'supply lines', 'supply shortages', 'support afghanistan', 'support for', 'support of', 'support the', 'support to', 'supporting the', 'supporting us', 'supreme court', 'surprise admission', 'survey the', 'sushma said', 'sushma swaraj', 'suspected persons', 'suspended approximately', 'suspended its', 'sustainable security', 'swaraj and', 'swaraj met', 'swaraj said', 'swaraj suggested', 'sway beijing', 'swept under', 'swipe at', 'swiss authorities', 'switzerland on', 'symposium in', 'systems entail', 'systems pakistan', 'tacit pressure', 'tackle climate', 'tackling terrorism', 'tactics and', 'take decisive', 'take down', 'take ownership', 'take part', 'take steps', 'take targeted', 'take the', 'take to', 'takeaway from', 'taken on', 'taken place', 'taken the', 'taken to', 'taking all', 'taking more', 'taking them', 'taliban and', 'taliban grow', 'taliban militants', 'talk about', 'talk to', 'talked about', 'talking about', 'talks on', 'talks with', 'tank community', 'tank european', 'tank russian', 'tank said', 'tank wilson', 'tap the', 'target killing', 'target of', 'target the', 'targeted any', 'targeted attack', 'targeted energy', 'targeted killing', 'targeted measures', 'tax based', 'taxi cabs', 'team of', 'teamed up', 'technical feasibility', 'technical grounds', 'technical objections', 'technology to', 'tectonic plates', 'tehreek insaf', 'telecast live', 'telephonic conversation', 'tell you', 'temporarily halted', 'temporarily stop', 'temporarily stopped', 'temporary and', 'ten thousand', 'tense and', 'tension between', 'tension but', 'tensions also', 'tensions in', 'tensions kugelman', 'tensions pakistan', 'term development', 'term history', 'term perspective', 'term telecast', 'termed the', 'terms for', 'terms imposed', 'terms of', 'terms the', 'territorial dispute', 'territorial integrity', 'territorial sovereignty', 'territory and', 'territory pok', 'terror groups', 'terror outfits', 'terror safe', 'terrorism and', 'terrorism besides', 'terrorism calls', 'terrorism cause', 'terrorism china', 'terrorism cooperation', 'terrorism day', 'terrorism efforts', 'terrorism he', 'terrorism in', 'terrorism inside', 'terrorism insisting', 'terrorism is', 'terrorism leaving', 'terrorism on', 'terrorism only', 'terrorism record', 'terrorism the', 'terrorism with', 'terrorist at', 'terrorist attacks', 'terrorist organisations', 'terrorist violence', 'terrorists and', 'terrorists but', 'terrorists in', 'terrorists like', 'terrorists she', 'terrorists the', 'terrorists trump', 'terrorists we', 'test case', 'test firing', 'testament to', 'thakot however', 'thakot originally', 'thakot will', 'than 33', 'than 70', 'than anything', 'than it', 'than its', 'than just', 'than the', 'that 90', 'that actual', 'that among', 'that an', 'that anti', 'that appeared', 'that are', 'that as', 'that at', 'that battered', 'that beijing', 'that both', 'that china', 'that chinese', 'that confessional', 'that country', 'that differences', 'that diplomatic', 'that discussion', 'that external', 'that extreme', 'that funds', 'that go', 'that has', 'that have', 'that he', 'that in', 'that include', 'that india', 'that indian', 'that inhibits', 'that intense', 'that is', 'that it', 'that its', 'that karakoram', 'that last', 'that luo', 'that many', 'that new', 'that pakistan', 'that partnership', 'that passes', 'that qatar', 'that shows', 'that supporting', 'that sustainable', 'that terrorism', 'that the', 'that there', 'that these', 'that they', 'that think', 'that this', 'that threaten', 'that trump', 'that was', 'that we', 'that while', 'that will', 'that work', 'that you', 'the 110', 'the 1320', 'the 136', 'the 14', 'the 15th', 'the 210', 'the 255', 'the 40', 'the 40th', 'the 46', 'the 50', 'the 6th', 'the 73', 'the ability', 'the adverse', 'the alleged', 'the already', 'the ambassador', 'the ambitious', 'the arabian', 'the area', 'the armed', 'the army', 'the asia', 'the attackers', 'the attacks', 'the authority', 'the baloch', 'the ban', 'the basic', 'the basis', 'the beijing', 'the belt', 'the benefit', 'the benefits', 'the big', 'the birth', 'the bla', 'the blame', 'the bloc', 'the boundary', 'the bri', 'the campaign', 'the carnegie', 'the carpet', 'the case', 'the causes', 'the central', 'the china', 'the chinese', 'the chotu', 'the civilian', 'the coming', 'the commissioning', 'the commitment', 'the committee', 'the common', 'the community', 'the concept', 'the conclusion', 'the conditions', 'the connectivity', 'the consensus', 'the consulate', 'the contentious', 'the context', 'the controversial', 'the cooperation', 'the coordinator', 'the corridor', 'the countries', 'the country', 'the cpec', 'the creation', 'the criminals', 'the crisis', 'the currency', 'the current', 'the cusp', 'the damage', 'the dangers', 'the dates', 'the dawn', 'the death', 'the december', 'the decision', 'the decline', 'the deep', 'the deepening', 'the delay', 'the department', 'the destructive', 'the development', 'the dialogue', 'the diamer', 'the differences', 'the discussions', 'the dismissal', 'the disputes', 'the doklam', 'the door', 'the earth', 'the easier', 'the east', 'the efsas', 'the enemies', 'the enemy', 'the epicentre', 'the eurasian', 'the exchanges', 'the existing', 'the expedition', 'the experimental', 'the express', 'the fact', 'the fate', 'the federal', 'the fight', 'the final', 'the financial', 'the first', 'the flagship', 'the foreign', 'the formation', 'the former', 'the four', 'the free', 'the funding', 'the funds', 'the future', 'the gilgit', 'the global', 'the goal', 'the government', 'the ground', 'the growing', 'the gwadar', 'the haqqani', 'the head', 'the heart', 'the hegemony', 'the height', 'the heritage', 'the historical', 'the home', 'the hong', 'the horn', 'the hospital', 'the house', 'the igp', 'the impact', 'the important', 'the indian', 'the indo', 'the information', 'the infrastructure', 'the initiative', 'the installations', 'the institutions', 'the interest', 'the interests', 'the interior', 'the internal', 'the international', 'the investments', 'the involvement', 'the issue', 'the issues', 'the joint', 'the jwg', 'the karachi', 'the kashmir', 'the killed', 'the killing', 'the landscape', 'the last', 'the latter', 'the lead', 'the light', 'the long', 'the loop', 'the major', 'the makran', 'the maldives', 'the meeting', 'the mega', 'the men', 'the menace', 'the mention', 'the military', 'the minister', 'the ministry', 'the modalities', 'the modi', 'the more', 'the most', 'the movements', 'the much', 'the multi', 'the name', 'the national', 'the nearly', 'the need', 'the nefarious', 'the new', 'the newspaper', 'the next', 'the nha', 'the normal', 'the november', 'the nsa', 'the nuclear', 'the number', 'the obor', 'the ocean', 'the office', 'the official', 'the one', 'the operation', 'the operations', 'the opportunity', 'the opposite', 'the opposition', 'the other', 'the outstanding', 'the over', 'the pakistan', 'the pakistani', 'the pakistanis', 'the panama', 'the parliamentary', 'the participation', 'the parties', 'the party', 'the past', 'the path', 'the people', 'the peoples', 'the platform', 'the pledges', 'the plurilateral', 'the police', 'the political', 'the port', 'the positive', 'the possibility', 'the post', 'the power', 'the present', 'the president', 'the previous', 'the prime', 'the principle', 'the prism', 'the problem', 'the process', 'the project', 'the projects', 'the protection', 'the province', 'the provincial', 'the punjab', 'the quadrilateral', 'the quest', 'the reaction', 'the reason', 'the recent', 'the reform', 'the region', 'the regional', 'the relationship', 'the release', 'the relevant', 'the remaining', 'the report', 'the resource', 'the responsibility', 'the results', 'the revenue', 'the ric', 'the rise', 'the risk', 'the road', 'the role', 'the route', 'the rs', 'the rule', 'the russian', 'the sacrifices', 'the same', 'the saying', 'the second', 'the security', 'the senate', 'the services', 'the sidelines', 'the situation', 'the smaller', 'the soil', 'the sources', 'the south', 'the sovereignty', 'the specific', 'the spectrum', 'the spread', 'the stability', 'the stand', 'the statement', 'the strategic', 'the subduction', 'the subject', 'the success', 'the support', 'the swiss', 'the take', 'the takeaway', 'the taliban', 'the target', 'the targeted', 'the technical', 'the terror', 'the terrorists', 'the the', 'the theme', 'the third', 'the threat', 'the three', 'the time', 'the top', 'the trade', 'the trajectory', 'the trench', 'the trilateral', 'the trump', 'the two', 'the uba', 'the un', 'the united', 'the university', 'the us', 'the usd', 'the visit', 'the volatile', 'the volatility', 'the war', 'the warmth', 'the waters', 'the wef', 'the well', 'the west', 'the white', 'the whole', 'the will', 'the wilson', 'the wisdom', 'the world', 'the zone', 'their car', 'their clerics', 'their commitment', 'their development', 'their differences', 'their disputed', 'their documents', 'their double', 'their first', 'their internal', 'their misdeeds', 'their relationship', 'their respective', 'their safety', 'their soils', 'them beijing', 'them down', 'them he', 'them live', 'them out', 'them the', 'them want', 'them was', 'them with', 'them would', 'theme of', 'theme shared', 'then have', 'there also', 'there are', 'there certainly', 'there domestic', 'there have', 'there is', 'there no', 'there should', 'there since', 'there were', 'there whole', 'these are', 'these differences', 'these guys', 'these had', 'these overtures', 'these projects', 'these relationships', 'these should', 'they also', 'they are', 'they arose', 'they can', 'they feel', 'they give', 'they have', 'they may', 'they re', 'they resolve', 'they see', 'they were', 'they would', 'thick yang', 'things cpec', 'think tank', 'think they', 'think this', 'think you', 'thinking of', 'third country', 'third party', 'third project', 'this best', 'this clear', 'this cooperation', 'this despite', 'this development', 'this espionage', 'this has', 'this in', 'this included', 'this india', 'this is', 'this part', 'this plant', 'this problem', 'this process', 'this project', 'this question', 'this regard', 'this rs', 'this stage', 'this story', 'this suggests', 'this the', 'this time', 'this us', 'this was', 'this we', 'this week', 'this will', 'this year', 'those concerns', 'those related', 'those two', 'though china', 'though hua', 'though progress', 'though the', 'thousand personnel', 'thousands of', 'threat furthermore', 'threat of', 'threaten cpec', 'threatening to', 'threatens pakistan', 'threats at', 'threats ranging', 'threats to', 'three counties', 'three countries', 'three decades', 'three key', 'three major', 'three nations', 'three nha', 'three projects', 'three road', 'three roads', 'three sides', 'three such', 'three years', 'through an', 'through areas', 'through asia', 'through bloc', 'through dialogue', 'through gwadar', 'through host', 'through indian', 'through jammu', 'through pakistan', 'through pok', 'through portion', 'through the', 'through which', 'throughout pakistan', 'thursday alleged', 'thursday cpec', 'thursday responded', 'tibet and', 'tide over', 'ties between', 'ties but', 'ties earlier', 'ties if', 'ties in', 'ties promote', 'ties with', 'till beijing', 'till further', 'time backed', 'time in', 'time india', 'time it', 'time its', 'time not', 'time recent', 'time said', 'time senior', 'time they', 'time this', 'times bambawale', 'times cpec', 'times in', 'times that', 'times this', 'tn road', 'to 2020', 'to 50', 'to accept', 'to access', 'to act', 'to action', 'to address', 'to afghanistan', 'to africa', 'to align', 'to all', 'to allow', 'to an', 'to another', 'to any', 'to arrest', 'to attack', 'to attend', 'to attract', 'to attribute', 'to avoid', 'to bar', 'to bbc', 'to be', 'to become', 'to begin', 'to beijing', 'to believe', 'to benefit', 'to block', 'to blow', 'to both', 'to bri', 'to bring', 'to build', 'to cancel', 'to capitulate', 'to chart', 'to china', 'to coastal', 'to come', 'to communicate', 'to completely', 'to contain', 'to contribute', 'to convey', 'to counter', 'to cpec', 'to crack', 'to crackdown', 'to deal', 'to declare', 'to declaring', 'to demonstrate', 'to deploy', 'to develop', 'to discuss', 'to do', 'to drop', 'to each', 'to eliminate', 'to emphasise', 'to engage', 'to enhance', 'to ensure', 'to eradicate', 'to establish', 'to evacuate', 'to expand', 'to experience', 'to explore', 'to extend', 'to fail', 'to fight', 'to figures', 'to finance', 'to find', 'to follow', 'to friends', 'to further', 'to generate', 'to geng', 'to get', 'to give', 'to gwadar', 'to halt', 'to have', 'to him', 'to hit', 'to hold', 'to hurt', 'to identify', 'to ignore', 'to improve', 'to increase', 'to india', 'to inspect', 'to integrate', 'to invest', 'to iran', 'to islamabad', 'to it', 'to its', 'to join', 'to justice', 'to keep', 'to kugelman', 'to long', 'to maintain', 'to make', 'to maldives', 'to manage', 'to manufacture', 'to mediate', 'to meet', 'to move', 'to natural', 'to negotiate', 'to new', 'to no', 'to offer', 'to organized', 'to our', 'to overcome', 'to pakistan', 'to pakistanin', 'to pay', 'to people', 'to place', 'to prepare', 'to present', 'to pressure', 'to projects', 'to promote', 'to promoting', 'to properly', 'to protect', 'to provide', 'to question', 'to re', 'to realise', 'to reassert', 'to reassure', 'to reduce', 'to regional', 'to release', 'to remain', 'to rename', 'to report', 'to reports', 'to resolve', 'to review', 'to revive', 'to roll', 'to rule', 'to sabotage', 'to sacrifice', 'to say', 'to secure', 'to see', 'to seek', 'to senior', 'to shift', 'to solve', 'to spend', 'to state', 'to statement', 'to stay', 'to step', 'to strengthen', 'to strike', 'to strive', 'to struggle', 'to such', 'to survey', 'to tackle', 'to take', 'to talk', 'to tap', 'to temporarily', 'to terrorism', 'to terrorists', 'to thakot', 'to than', 'to the', 'to their', 'to these', 'to three', 'to tide', 'to translation', 'to un', 'to uphold', 'to use', 'to view', 'to why', 'to work', 'today according', 'today and', 'today china', 'today cpec', 'today discussions', 'today held', 'today rejected', 'today said', 'today sushma', 'today telephonic', 'today the', 'today they', 'together and', 'told beijing', 'told china', 'told journalists', 'told lawmakers', 'told media', 'told of', 'told parliament', 'told pti', 'told reporters', 'told saeed', 'told south', 'told that', 'told the', 'told wang', 'tomorrow it', 'tone like', 'too early', 'too met', 'too stringent', 'took swipe', 'top judges', 'top priority', 'top strategic', 'top un', 'torn balochistan', 'total investment', 'touch with', 'tough financing', 'touted as', 'trade and', 'trade deficit', 'trade from', 'trade imbalance', 'trade partnership', 'trajectory of', 'transfer of', 'transit rights', 'transition by', 'translation of', 'transport for', 'traversed through', 'traverses through', 'trench and', 'trench in', 'trench is', 'trench last', 'trench off', 'tribune reported', 'tribune the', 'tried to', 'triggered tsunami', 'trilateral cooperation', 'trilateral framework', 'trilateral mechanism', 'trilateral meet', 'trilateral meeting', 'trillion pakistani', 'trillion worth', 'triumphant and', 'true that', 'truly universal', 'trump accused', 'trump action', 'trump administration', 'trump also', 'trump blamed', 'trump criticism', 'trump efforts', 'trump had', 'trump has', 'trump in', 'trump increased', 'trump lashed', 'trump outburst', 'trump said', 'trust and', 'trust to', 'try to', 'trying to', 'tsunami could', 'tsunami that', 'tuesday asked', 'tuesday defended', 'tuesday government', 'tuesday quoted', 'tuesday quoting', 'tuesday the', 'turmoil gripping', 'tweet accused', 'tweet of', 'tweeted on', 'tweets trump', 'twice indicates', 'two bullets', 'two chinese', 'two countries', 'two dozen', 'two months', 'two neighbours', 'two of', 'two out', 'two parties', 'two rising', 'two sides', 'two tectonic', 'uba tomorrow', 'ulterior motives', 'ultimately determine', 'umar who', 'umbrella so', 'umbrella to', 'un actively', 'un assistant', 'un body', 'un charter', 'un had', 'un nikki', 'un security', 'unanswered yang', 'under beijing', 'under belt', 'under construction', 'under cpec', 'under frequent', 'under it', 'under its', 'under the', 'under which', 'underlined that', 'undermine beijing', 'understanding between', 'understanding forward', 'understanding of', 'understanding while', 'undue apprehensions', 'undue influence', 'unevenly divided', 'unfit for', 'unidentified gunmen', 'unilaterally when', 'union because', 'union concluded', 'union within', 'unique relationship', 'unit of', 'united states', 'universal coalition', 'university of', 'university school', 'unlikely to', 'until its', 'untoward incident', 'unusual in', 'up against', 'up an', 'up by', 'up counter', 'up in', 'up is', 'up its', 'up on', 'up pressure', 'up their', 'up to', 'uphold independence', 'uphold the', 'upmarket area', 'upon by', 'upset because', 'upset islamabad', 'urged the', 'us administration', 'us aid', 'us also', 'us ambassador', 'us and', 'us bambawale', 'us based', 'us but', 'us does', 'us expects', 'us finger', 'us forces', 'us has', 'us he', 'us in', 'us india', 'us is', 'us japan', 'us last', 'us leaders', 'us led', 'us moves', 'us must', 'us nothing', 'us of', 'us president', 'us presidents', 'us stepped', 'us that', 'us think', 'us to', 'us would', 'usd 085', 'usd 50', 'usd 60', 'use force', 'use of', 'use their', 'used against', 'used to', 'uses only', 'using afghanistan', 'using different', 'using the', 'uyghur autonomous', 'variety of', 'various sectors', 'various steps', 've reached', 'venture and', 'venture further', 'ventures dawn', 'verified suspected', 'versed on', 'very bullish', 'very desperate', 'very interesting', 'very outstanding', 'very similar', 'very smart', 'vessel for', 'victories one', 'victory of', 'view considering', 'view of', 'view their', 'viewing the', 'views observers', 'views the', 'violates our', 'violation of', 'violence has', 'violent clashes', 'vision at', 'visit asked', 'visit of', 'visit to', 'visited diamer', 'visited pakistan', 'vital projects', 'vocal in', 'volatile country', 'volatile province', 'volatility of', 'voluntarism commenting', 'voluntarism geng', 'vowed to', 'vulnerability pakistan', 'wagner asked', 'wagner smith', 'walk and', 'wang for', 'wang said', 'wang told', 'wang yi', 'want maldives', 'want the', 'want to', 'war against', 'war and', 'war cannot', 'war ravaged', 'warfare the', 'warmth has', 'warmth of', 'warned of', 'warned pakistan', 'was 51', 'was acting', 'was agreed', 'was also', 'was asked', 'was at', 'was attacked', 'was banned', 'was cautioning', 'was conveyed', 'was economic', 'was encouraging', 'was evident', 'was expected', 'was expecting', 'was feeling', 'was following', 'was funded', 'was going', 'was hearing', 'was hit', 'was in', 'was inaugurated', 'was informed', 'was involved', 'was joint', 'was killed', 'was launched', 'was left', 'was line', 'was made', 'was mainly', 'was meant', 'was not', 'was of', 'was quite', 'was quoted', 'was ready', 'was released', 'was reported', 'was requested', 'was responding', 'was reviewing', 'was revising', 'was significant', 'was suggested', 'was taken', 'was the', 'was trying', 'was wang', 'was when', 'was worried', 'washington china', 'washington dc', 'washington footprint', 'washington said', 'washington the', 'washington top', 'wasn the', 'water and', 'waters to', 'way china', 'way cpec', 'way forward', 'way of', 'way out', 'way to', 'way which', 'ways test', 'ways we', 'we are', 'we believe', 'we doing', 'we don', 'we had', 'we have', 'we hope', 'we hunt', 'we make', 'we must', 'we need', 'we see', 'we should', 'we stand', 'we stressed', 'we support', 'we talk', 'we ve', 'we will', 'we would', 'weaher friend', 'weapons and', 'weather ally', 'weather partners', 'wedge issue', 'wednesday said', 'week beijing', 'week he', 'week suspended', 'week that', 'week the', 'wef annual', 'wef pakistan', 'wef we', 'welcomes all', 'well as', 'well being', 'well beyond', 'well to', 'well versed', 'were all', 'were approved', 'were areas', 'were charged', 'were concerned', 'were discussed', 'were education', 'were engaged', 'were growing', 'were hearing', 'were in', 'were militants', 'were no', 'were originally', 'were part', 'were quite', 'were ready', 'were released', 'were shot', 'were sort', 'were still', 'were to', 'were told', 'were too', 'were using', 'west abbasi', 'west and', 'western countries', 'westward she', 'what do', 'what is', 'what we', 'when asked', 'when chinese', 'when in', 'when india', 'when informed', 'when pakistan', 'when president', 'when the', 'when they', 'when told', 'when top', 'when you', 'where anti', 'where he', 'where in', 'where one', 'where power', 'where the', 'whereas most', 'whether china', 'whether pakistan', 'whether saeed', 'whether trump', 'which china', 'which desperately', 'which evidently', 'which has', 'which he', 'which included', 'which includes', 'which india', 'which is', 'which it', 'which links', 'which new', 'which passes', 'which prompted', 'which range', 'which scientists', 'which shares', 'which should', 'which the', 'which traverses', 'which triggered', 'which was', 'which will', 'which witnessed', 'while accelerating', 'while china', 'while defending', 'while ensuring', 'while lauding', 'while providing', 'while replying', 'while rs', 'while russia', 'while sheltering', 'while similar', 'while taking', 'while the', 'while there', 'white house', 'who are', 'who have', 'who is', 'who recently', 'who shot', 'who was', 'who were', 'who will', 'whole lot', 'whole rather', 'whole region', 'whose involvement', 'why for', 'why it', 'why scientists', 'why the', 'why we', 'wick cary', 'wide range', 'wide the', 'wider than', 'wider variety', 'will allow', 'will also', 'will be', 'will become', 'will bring', 'will connect', 'will continue', 'will damage', 'will deepen', 'will definitely', 'will depend', 'will eat', 'will enhance', 'will exacerbate', 'will find', 'will foiled', 'will go', 'will have', 'will help', 'will keep', 'will not', 'will of', 'will only', 'will pay', 'will play', 'will promote', 'will remain', 'will resolutely', 'will secure', 'will take', 'will they', 'will ultimately', 'will work', 'willing to', 'wilson center', 'wilson centre', 'winds blowing', 'wisdom and', 'wise enough', 'wishes to', 'with all', 'with alleged', 'with any', 'with beijing', 'with bri', 'with china', 'with chinese', 'with connectivity', 'with cpec', 'with dialogue', 'with financial', 'with global', 'with gwadar', 'with his', 'with india', 'with inputs', 'with islamabad', 'with it', 'with law', 'with leaders', 'with lies', 'with little', 'with maldives', 'with media', 'with new', 'with news', 'with other', 'with pakistan', 'with people', 'with prime', 'with relevant', 'with security', 'with sincerity', 'with territorial', 'with terrorism', 'with the', 'with to', 'with total', 'with transport', 'with triumphant', 'withhold 255', 'within pakistan', 'within the', 'without agenda', 'without any', 'without leaving', 'without sacrificing', 'witnessed the', 'witnessed today', 'work fell', 'work on', 'work out', 'work with', 'worked for', 'workers are', 'workers have', 'workers shelter', 'working group', 'working on', 'world and', 'world asked', 'world at', 'world being', 'world but', 'world community', 'world economic', 'world he', 'world peace', 'world through', 'worried for', 'worries about', 'worth of', 'worth road', 'worth the', 'would affect', 'would also', 'would arrive', 'would be', 'would benefit', 'would build', 'would eventually', 'would guarantee', 'would have', 'would issue', 'would like', 'would make', 'would not', 'would occasionally', 'would or', 'would pose', 'would resolutely', 'would restart', 'would try', 'would withhold', 'wrote among', 'wrote kugelman', 'xi in', 'xi jinping', 'xi meeting', 'xi said', 'xiamen as', 'xinhua news', 'xinjiang province', 'xinjiang region', 'xinjiang to', 'xinjiang uyghur', 'yameen government', 'yameen sent', 'yang hongfeng', 'yang jiechi', 'yang said', 'year address', 'year addressing', 'year day', 'year greetings', 'year he', 'year lease', 'year magnitude', 'year message', 'year old', 'year pakistan', 'year pending', 'year term', 'year wef', 'years and', 'years are', 'years as', 'years chinese', 'years he', 'years is', 'years peace', 'years since', 'years viewing', 'years we', 'yesterday after', 'yesterday china', 'yet clear', 'yet strong', 'yi and', 'yi asked', 'yi first', 'yi for', 'yi has', 'yi his', 'yi today', 'you are', 'you do', 'you should', 'you that', 'your children', 'your position', 'yunsong associate', 'zhaohui who', 'zhob road', 'zhu was', 'zone ann', 'zone in', 'zone seismologist', 'zone the', 'zone which']\n",
      "[[1 0 0 ... 1 1 1]\n",
      " [0 0 0 ... 0 0 0]\n",
      " [0 0 0 ... 0 0 0]\n",
      " ...\n",
      " [0 0 0 ... 0 0 0]\n",
      " [0 0 0 ... 0 0 0]\n",
      " [0 0 0 ... 0 0 0]]\n"
     ]
    }
   ],
   "source": [
    "from sklearn.feature_extraction.text import CountVectorizer\n",
    "text = [[word.lower() for word in line.split()] for line in file['col1']]\n",
    "vectorizer = CountVectorizer(ngram_range=(2,2)) #analyzer = stem_text\n",
    "X_counts = vectorizer.fit_transform (file['col1'])\n",
    "print(X_counts.shape)\n",
    "print(vectorizer.get_feature_names())\n",
    "print(X_counts.toarray())"
   ]
  },
  {
   "cell_type": "code",
   "execution_count": 86,
   "metadata": {},
   "outputs": [
    {
     "data": {
      "text/html": [
       "<div>\n",
       "<style scoped>\n",
       "    .dataframe tbody tr th:only-of-type {\n",
       "        vertical-align: middle;\n",
       "    }\n",
       "\n",
       "    .dataframe tbody tr th {\n",
       "        vertical-align: top;\n",
       "    }\n",
       "\n",
       "    .dataframe thead th {\n",
       "        text-align: right;\n",
       "    }\n",
       "</style>\n",
       "<table border=\"1\" class=\"dataframe\">\n",
       "  <thead>\n",
       "    <tr style=\"text-align: right;\">\n",
       "      <th></th>\n",
       "      <th>hed1</th>\n",
       "      <th>h2</th>\n",
       "      <th>src</th>\n",
       "      <th>txt</th>\n",
       "    </tr>\n",
       "  </thead>\n",
       "  <tbody>\n",
       "    <tr>\n",
       "      <th>0</th>\n",
       "      <td>China trying to create its own globally decisi...</td>\n",
       "      <td>China and Russia are determined to replace the...</td>\n",
       "      <td>Press Trust of India  Washington</td>\n",
       "      <td>China is trying to create its own globally dec...</td>\n",
       "    </tr>\n",
       "    <tr>\n",
       "      <th>1</th>\n",
       "      <td>Beijing film fest puts Satyajit Ray’s Apu tril...</td>\n",
       "      <td>The five Indian movies included in the “Belt a...</td>\n",
       "      <td>Sutirtho Patranobis  Hindustan Times, Beijing</td>\n",
       "      <td>One of China’s top film festivals has clubbed ...</td>\n",
       "    </tr>\n",
       "    <tr>\n",
       "      <th>2</th>\n",
       "      <td>BRI doesn’t respect territorial integrity: Ind...</td>\n",
       "      <td>Indian ambassador Vikram Misri also virtually ...</td>\n",
       "      <td>Sutirtho Patranobis  Hindustan Times, Beijing</td>\n",
       "      <td>President Xi Jinping’s Belt and Road Initiativ...</td>\n",
       "    </tr>\n",
       "    <tr>\n",
       "      <th>3</th>\n",
       "      <td>China firmly with Pakistan, says Beijing as Is...</td>\n",
       "      <td>Last week, China had for the fourth time put a...</td>\n",
       "      <td>Sutirtho Patranobis  Hindustan Times, Beijing</td>\n",
       "      <td>China on Tuesday assured Pakistan of firm supp...</td>\n",
       "    </tr>\n",
       "    <tr>\n",
       "      <th>4</th>\n",
       "      <td>After blocking terrorist tag for Masood Azhar,...</td>\n",
       "      <td>The Sino-Pakistani talks are being held days a...</td>\n",
       "      <td>Sutirtho Patranobis</td>\n",
       "      <td>The simmering tension between India and Pakist...</td>\n",
       "    </tr>\n",
       "  </tbody>\n",
       "</table>\n",
       "</div>"
      ],
      "text/plain": [
       "                                                hed1  \\\n",
       "0  China trying to create its own globally decisi...   \n",
       "1  Beijing film fest puts Satyajit Ray’s Apu tril...   \n",
       "2  BRI doesn’t respect territorial integrity: Ind...   \n",
       "3  China firmly with Pakistan, says Beijing as Is...   \n",
       "4  After blocking terrorist tag for Masood Azhar,...   \n",
       "\n",
       "                                                  h2  \\\n",
       "0  China and Russia are determined to replace the...   \n",
       "1  The five Indian movies included in the “Belt a...   \n",
       "2  Indian ambassador Vikram Misri also virtually ...   \n",
       "3  Last week, China had for the fourth time put a...   \n",
       "4  The Sino-Pakistani talks are being held days a...   \n",
       "\n",
       "                                             src  \\\n",
       "0               Press Trust of India  Washington   \n",
       "1  Sutirtho Patranobis  Hindustan Times, Beijing   \n",
       "2  Sutirtho Patranobis  Hindustan Times, Beijing   \n",
       "3  Sutirtho Patranobis  Hindustan Times, Beijing   \n",
       "4                          Sutirtho Patranobis     \n",
       "\n",
       "                                                 txt  \n",
       "0  China is trying to create its own globally dec...  \n",
       "1  One of China’s top film festivals has clubbed ...  \n",
       "2  President Xi Jinping’s Belt and Road Initiativ...  \n",
       "3  China on Tuesday assured Pakistan of firm supp...  \n",
       "4  The simmering tension between India and Pakist...  "
      ]
     },
     "execution_count": 86,
     "metadata": {},
     "output_type": "execute_result"
    }
   ],
   "source": [
    "file.head()"
   ]
  },
  {
   "cell_type": "code",
   "execution_count": 132,
   "metadata": {},
   "outputs": [],
   "source": [
    "from textblob import TextBlob"
   ]
  },
  {
   "cell_type": "code",
   "execution_count": 138,
   "metadata": {},
   "outputs": [
    {
     "data": {
      "text/plain": [
       "Sentiment(polarity=0.06313920454545456, subjectivity=0.32634943181818177)"
      ]
     },
     "execution_count": 138,
     "metadata": {},
     "output_type": "execute_result"
    }
   ],
   "source": [
    "#type(file['col1'])\n",
    "y=list()\n",
    "for x in file['col1']:\n",
    "    y=x\n",
    "\n",
    "TextBlob(y).sentiment\n"
   ]
  },
  {
   "cell_type": "code",
   "execution_count": 137,
   "metadata": {},
   "outputs": [
    {
     "data": {
      "text/plain": [
       "str"
      ]
     },
     "execution_count": 137,
     "metadata": {},
     "output_type": "execute_result"
    }
   ],
   "source": [
    "type(y)"
   ]
  },
  {
   "cell_type": "code",
   "execution_count": 140,
   "metadata": {},
   "outputs": [
    {
     "data": {
      "text/plain": [
       "Sentiment(polarity=-1.0, subjectivity=1.0)"
      ]
     },
     "execution_count": 140,
     "metadata": {},
     "output_type": "execute_result"
    }
   ],
   "source": [
    "TextBlob('life is boring').sentiment"
   ]
  },
  {
   "cell_type": "code",
   "execution_count": 91,
   "metadata": {
    "scrolled": true
   },
   "outputs": [],
   "source": [
    "import re\n",
    "import string\n"
   ]
  },
  {
   "cell_type": "code",
   "execution_count": 94,
   "metadata": {},
   "outputs": [
    {
     "ename": "ValueError",
     "evalue": "Length mismatch: Expected axis has 4 elements, new values have 1 elements",
     "output_type": "error",
     "traceback": [
      "\u001b[1;31m---------------------------------------------------------------------------\u001b[0m",
      "\u001b[1;31mValueError\u001b[0m                                Traceback (most recent call last)",
      "\u001b[1;32m<ipython-input-94-a09e2ce9926b>\u001b[0m in \u001b[0;36m<module>\u001b[1;34m()\u001b[0m\n\u001b[0;32m      1\u001b[0m \u001b[0mtokens2\u001b[0m\u001b[1;33m=\u001b[0m\u001b[0mpd\u001b[0m\u001b[1;33m.\u001b[0m\u001b[0mDataFrame\u001b[0m\u001b[1;33m(\u001b[0m\u001b[0mfile\u001b[0m\u001b[1;33m)\u001b[0m\u001b[1;33m\u001b[0m\u001b[0m\n\u001b[1;32m----> 2\u001b[1;33m \u001b[0mtokens2\u001b[0m\u001b[1;33m.\u001b[0m\u001b[0mcolumns\u001b[0m\u001b[1;33m=\u001b[0m\u001b[1;33m[\u001b[0m\u001b[1;34m'Words'\u001b[0m\u001b[1;33m]\u001b[0m\u001b[1;33m\u001b[0m\u001b[0m\n\u001b[0m\u001b[0;32m      3\u001b[0m \u001b[0mtokens2\u001b[0m\u001b[1;33m.\u001b[0m\u001b[0mhead\u001b[0m\u001b[1;33m(\u001b[0m\u001b[1;33m)\u001b[0m\u001b[1;33m\u001b[0m\u001b[0m\n",
      "\u001b[1;32m~\\Anaconda3\\lib\\site-packages\\pandas\\core\\generic.py\u001b[0m in \u001b[0;36m__setattr__\u001b[1;34m(self, name, value)\u001b[0m\n\u001b[0;32m   4387\u001b[0m         \u001b[1;32mtry\u001b[0m\u001b[1;33m:\u001b[0m\u001b[1;33m\u001b[0m\u001b[0m\n\u001b[0;32m   4388\u001b[0m             \u001b[0mobject\u001b[0m\u001b[1;33m.\u001b[0m\u001b[0m__getattribute__\u001b[0m\u001b[1;33m(\u001b[0m\u001b[0mself\u001b[0m\u001b[1;33m,\u001b[0m \u001b[0mname\u001b[0m\u001b[1;33m)\u001b[0m\u001b[1;33m\u001b[0m\u001b[0m\n\u001b[1;32m-> 4389\u001b[1;33m             \u001b[1;32mreturn\u001b[0m \u001b[0mobject\u001b[0m\u001b[1;33m.\u001b[0m\u001b[0m__setattr__\u001b[0m\u001b[1;33m(\u001b[0m\u001b[0mself\u001b[0m\u001b[1;33m,\u001b[0m \u001b[0mname\u001b[0m\u001b[1;33m,\u001b[0m \u001b[0mvalue\u001b[0m\u001b[1;33m)\u001b[0m\u001b[1;33m\u001b[0m\u001b[0m\n\u001b[0m\u001b[0;32m   4390\u001b[0m         \u001b[1;32mexcept\u001b[0m \u001b[0mAttributeError\u001b[0m\u001b[1;33m:\u001b[0m\u001b[1;33m\u001b[0m\u001b[0m\n\u001b[0;32m   4391\u001b[0m             \u001b[1;32mpass\u001b[0m\u001b[1;33m\u001b[0m\u001b[0m\n",
      "\u001b[1;32mpandas\\_libs\\properties.pyx\u001b[0m in \u001b[0;36mpandas._libs.properties.AxisProperty.__set__\u001b[1;34m()\u001b[0m\n",
      "\u001b[1;32m~\\Anaconda3\\lib\\site-packages\\pandas\\core\\generic.py\u001b[0m in \u001b[0;36m_set_axis\u001b[1;34m(self, axis, labels)\u001b[0m\n\u001b[0;32m    644\u001b[0m \u001b[1;33m\u001b[0m\u001b[0m\n\u001b[0;32m    645\u001b[0m     \u001b[1;32mdef\u001b[0m \u001b[0m_set_axis\u001b[0m\u001b[1;33m(\u001b[0m\u001b[0mself\u001b[0m\u001b[1;33m,\u001b[0m \u001b[0maxis\u001b[0m\u001b[1;33m,\u001b[0m \u001b[0mlabels\u001b[0m\u001b[1;33m)\u001b[0m\u001b[1;33m:\u001b[0m\u001b[1;33m\u001b[0m\u001b[0m\n\u001b[1;32m--> 646\u001b[1;33m         \u001b[0mself\u001b[0m\u001b[1;33m.\u001b[0m\u001b[0m_data\u001b[0m\u001b[1;33m.\u001b[0m\u001b[0mset_axis\u001b[0m\u001b[1;33m(\u001b[0m\u001b[0maxis\u001b[0m\u001b[1;33m,\u001b[0m \u001b[0mlabels\u001b[0m\u001b[1;33m)\u001b[0m\u001b[1;33m\u001b[0m\u001b[0m\n\u001b[0m\u001b[0;32m    647\u001b[0m         \u001b[0mself\u001b[0m\u001b[1;33m.\u001b[0m\u001b[0m_clear_item_cache\u001b[0m\u001b[1;33m(\u001b[0m\u001b[1;33m)\u001b[0m\u001b[1;33m\u001b[0m\u001b[0m\n\u001b[0;32m    648\u001b[0m \u001b[1;33m\u001b[0m\u001b[0m\n",
      "\u001b[1;32m~\\Anaconda3\\lib\\site-packages\\pandas\\core\\internals.py\u001b[0m in \u001b[0;36mset_axis\u001b[1;34m(self, axis, new_labels)\u001b[0m\n\u001b[0;32m   3321\u001b[0m             raise ValueError(\n\u001b[0;32m   3322\u001b[0m                 \u001b[1;34m'Length mismatch: Expected axis has {old} elements, new '\u001b[0m\u001b[1;33m\u001b[0m\u001b[0m\n\u001b[1;32m-> 3323\u001b[1;33m                 'values have {new} elements'.format(old=old_len, new=new_len))\n\u001b[0m\u001b[0;32m   3324\u001b[0m \u001b[1;33m\u001b[0m\u001b[0m\n\u001b[0;32m   3325\u001b[0m         \u001b[0mself\u001b[0m\u001b[1;33m.\u001b[0m\u001b[0maxes\u001b[0m\u001b[1;33m[\u001b[0m\u001b[0maxis\u001b[0m\u001b[1;33m]\u001b[0m \u001b[1;33m=\u001b[0m \u001b[0mnew_labels\u001b[0m\u001b[1;33m\u001b[0m\u001b[0m\n",
      "\u001b[1;31mValueError\u001b[0m: Length mismatch: Expected axis has 4 elements, new values have 1 elements"
     ]
    }
   ],
   "source": [
    "tokens2=pd.DataFrame(file)\n",
    "tokens2.columns=['Words']\n",
    "tokens2.head()"
   ]
  },
  {
   "cell_type": "code",
   "execution_count": 72,
   "metadata": {},
   "outputs": [
    {
     "ename": "AttributeError",
     "evalue": "'function' object has no attribute 'lower'",
     "output_type": "error",
     "traceback": [
      "\u001b[1;31m---------------------------------------------------------------------------\u001b[0m",
      "\u001b[1;31mAttributeError\u001b[0m                            Traceback (most recent call last)",
      "\u001b[1;32m<ipython-input-72-8613d6b70f37>\u001b[0m in \u001b[0;36m<module>\u001b[1;34m()\u001b[0m\n\u001b[0;32m      2\u001b[0m \u001b[0mcorpus\u001b[0m \u001b[1;33m=\u001b[0m \u001b[1;33m[\u001b[0m\u001b[0mx\u001b[0m\u001b[1;33m]\u001b[0m\u001b[1;33m\u001b[0m\u001b[0m\n\u001b[0;32m      3\u001b[0m \u001b[0mvectorizer\u001b[0m \u001b[1;33m=\u001b[0m \u001b[0mCountVectorizer\u001b[0m\u001b[1;33m(\u001b[0m\u001b[1;33m)\u001b[0m\u001b[1;33m\u001b[0m\u001b[0m\n\u001b[1;32m----> 4\u001b[1;33m \u001b[0mX_counts\u001b[0m \u001b[1;33m=\u001b[0m \u001b[0mvectorizer\u001b[0m\u001b[1;33m.\u001b[0m\u001b[0mfit_transform\u001b[0m\u001b[1;33m(\u001b[0m\u001b[0mcorpus\u001b[0m\u001b[1;33m)\u001b[0m\u001b[1;33m\u001b[0m\u001b[0m\n\u001b[0m\u001b[0;32m      5\u001b[0m \u001b[1;31m#print(X_counts.shape)\u001b[0m\u001b[1;33m\u001b[0m\u001b[1;33m\u001b[0m\u001b[0m\n\u001b[0;32m      6\u001b[0m \u001b[1;31m#print(vectorizer.get_feature_names())\u001b[0m\u001b[1;33m\u001b[0m\u001b[1;33m\u001b[0m\u001b[0m\n",
      "\u001b[1;32m~\\Anaconda3\\lib\\site-packages\\sklearn\\feature_extraction\\text.py\u001b[0m in \u001b[0;36mfit_transform\u001b[1;34m(self, raw_documents, y)\u001b[0m\n\u001b[0;32m    867\u001b[0m \u001b[1;33m\u001b[0m\u001b[0m\n\u001b[0;32m    868\u001b[0m         vocabulary, X = self._count_vocab(raw_documents,\n\u001b[1;32m--> 869\u001b[1;33m                                           self.fixed_vocabulary_)\n\u001b[0m\u001b[0;32m    870\u001b[0m \u001b[1;33m\u001b[0m\u001b[0m\n\u001b[0;32m    871\u001b[0m         \u001b[1;32mif\u001b[0m \u001b[0mself\u001b[0m\u001b[1;33m.\u001b[0m\u001b[0mbinary\u001b[0m\u001b[1;33m:\u001b[0m\u001b[1;33m\u001b[0m\u001b[0m\n",
      "\u001b[1;32m~\\Anaconda3\\lib\\site-packages\\sklearn\\feature_extraction\\text.py\u001b[0m in \u001b[0;36m_count_vocab\u001b[1;34m(self, raw_documents, fixed_vocab)\u001b[0m\n\u001b[0;32m    790\u001b[0m         \u001b[1;32mfor\u001b[0m \u001b[0mdoc\u001b[0m \u001b[1;32min\u001b[0m \u001b[0mraw_documents\u001b[0m\u001b[1;33m:\u001b[0m\u001b[1;33m\u001b[0m\u001b[0m\n\u001b[0;32m    791\u001b[0m             \u001b[0mfeature_counter\u001b[0m \u001b[1;33m=\u001b[0m \u001b[1;33m{\u001b[0m\u001b[1;33m}\u001b[0m\u001b[1;33m\u001b[0m\u001b[0m\n\u001b[1;32m--> 792\u001b[1;33m             \u001b[1;32mfor\u001b[0m \u001b[0mfeature\u001b[0m \u001b[1;32min\u001b[0m \u001b[0manalyze\u001b[0m\u001b[1;33m(\u001b[0m\u001b[0mdoc\u001b[0m\u001b[1;33m)\u001b[0m\u001b[1;33m:\u001b[0m\u001b[1;33m\u001b[0m\u001b[0m\n\u001b[0m\u001b[0;32m    793\u001b[0m                 \u001b[1;32mtry\u001b[0m\u001b[1;33m:\u001b[0m\u001b[1;33m\u001b[0m\u001b[0m\n\u001b[0;32m    794\u001b[0m                     \u001b[0mfeature_idx\u001b[0m \u001b[1;33m=\u001b[0m \u001b[0mvocabulary\u001b[0m\u001b[1;33m[\u001b[0m\u001b[0mfeature\u001b[0m\u001b[1;33m]\u001b[0m\u001b[1;33m\u001b[0m\u001b[0m\n",
      "\u001b[1;32m~\\Anaconda3\\lib\\site-packages\\sklearn\\feature_extraction\\text.py\u001b[0m in \u001b[0;36m<lambda>\u001b[1;34m(doc)\u001b[0m\n\u001b[0;32m    264\u001b[0m \u001b[1;33m\u001b[0m\u001b[0m\n\u001b[0;32m    265\u001b[0m             return lambda doc: self._word_ngrams(\n\u001b[1;32m--> 266\u001b[1;33m                 tokenize(preprocess(self.decode(doc))), stop_words)\n\u001b[0m\u001b[0;32m    267\u001b[0m \u001b[1;33m\u001b[0m\u001b[0m\n\u001b[0;32m    268\u001b[0m         \u001b[1;32melse\u001b[0m\u001b[1;33m:\u001b[0m\u001b[1;33m\u001b[0m\u001b[0m\n",
      "\u001b[1;32m~\\Anaconda3\\lib\\site-packages\\sklearn\\feature_extraction\\text.py\u001b[0m in \u001b[0;36m<lambda>\u001b[1;34m(x)\u001b[0m\n\u001b[0;32m    230\u001b[0m \u001b[1;33m\u001b[0m\u001b[0m\n\u001b[0;32m    231\u001b[0m         \u001b[1;32mif\u001b[0m \u001b[0mself\u001b[0m\u001b[1;33m.\u001b[0m\u001b[0mlowercase\u001b[0m\u001b[1;33m:\u001b[0m\u001b[1;33m\u001b[0m\u001b[0m\n\u001b[1;32m--> 232\u001b[1;33m             \u001b[1;32mreturn\u001b[0m \u001b[1;32mlambda\u001b[0m \u001b[0mx\u001b[0m\u001b[1;33m:\u001b[0m \u001b[0mstrip_accents\u001b[0m\u001b[1;33m(\u001b[0m\u001b[0mx\u001b[0m\u001b[1;33m.\u001b[0m\u001b[0mlower\u001b[0m\u001b[1;33m(\u001b[0m\u001b[1;33m)\u001b[0m\u001b[1;33m)\u001b[0m\u001b[1;33m\u001b[0m\u001b[0m\n\u001b[0m\u001b[0;32m    233\u001b[0m         \u001b[1;32melse\u001b[0m\u001b[1;33m:\u001b[0m\u001b[1;33m\u001b[0m\u001b[0m\n\u001b[0;32m    234\u001b[0m             \u001b[1;32mreturn\u001b[0m \u001b[0mstrip_accents\u001b[0m\u001b[1;33m\u001b[0m\u001b[0m\n",
      "\u001b[1;31mAttributeError\u001b[0m: 'function' object has no attribute 'lower'"
     ]
    }
   ],
   "source": [
    "from sklearn.feature_extraction.text import CountVectorizer\n",
    "corpus = [x]\n",
    "vectorizer = CountVectorizer()\n",
    "X_counts = vectorizer.fit_transform(corpus)\n",
    "#print(X_counts.shape)\n",
    "#print(vectorizer.get_feature_names())\n",
    "#print(X_counts.toarray())"
   ]
  },
  {
   "cell_type": "code",
   "execution_count": 64,
   "metadata": {},
   "outputs": [
    {
     "data": {
      "text/plain": [
       "<bound method RegexpTokenizer.tokenize of RegexpTokenizer(pattern=\"[a-zA-Z'`éèî]+\", gaps=False, discard_empty=True, flags=<RegexFlag.UNICODE|DOTALL|MULTILINE: 56>)>"
      ]
     },
     "execution_count": 64,
     "metadata": {},
     "output_type": "execute_result"
    }
   ],
   "source": [
    "x"
   ]
  },
  {
   "cell_type": "code",
   "execution_count": 26,
   "metadata": {},
   "outputs": [
    {
     "name": "stdout",
     "output_type": "stream",
     "text": [
      "[nltk_data] Downloading package stopwords to\n",
      "[nltk_data]     C:\\Users\\Yahyah\\AppData\\Roaming\\nltk_data...\n",
      "[nltk_data]   Package stopwords is already up-to-date!\n"
     ]
    },
    {
     "data": {
      "text/plain": [
       "True"
      ]
     },
     "execution_count": 26,
     "metadata": {},
     "output_type": "execute_result"
    }
   ],
   "source": [
    "nltk.download('stopwords')"
   ]
  },
  {
   "cell_type": "code",
   "execution_count": 13,
   "metadata": {},
   "outputs": [
    {
     "data": {
      "text/plain": [
       "179"
      ]
     },
     "execution_count": 13,
     "metadata": {},
     "output_type": "execute_result"
    }
   ],
   "source": [
    "from nltk.corpus import stopwords\n",
    "stopwords.words('english')\n",
    "len(stopwords.words('english'))\n",
    "#it is important to note that stopword funtion will only work with tokenized text.\n",
    "#With simple text, it will not provide the desired results.\n",
    "#therefore we need to tokenize the data."
   ]
  },
  {
   "cell_type": "code",
   "execution_count": 33,
   "metadata": {},
   "outputs": [
    {
     "data": {
      "text/plain": [
       "0    [file]\n",
       "Name: tokenized_sents, dtype: object"
      ]
     },
     "execution_count": 33,
     "metadata": {},
     "output_type": "execute_result"
    }
   ],
   "source": [
    "\n",
    "df['tokenized_sents'] = df.apply(lambda row: nltk.word_tokenize(row['sentences']), axis=1)\n",
    "df['tokenized_sents']"
   ]
  },
  {
   "cell_type": "code",
   "execution_count": 30,
   "metadata": {},
   "outputs": [
    {
     "data": {
      "text/html": [
       "<div>\n",
       "<style scoped>\n",
       "    .dataframe tbody tr th:only-of-type {\n",
       "        vertical-align: middle;\n",
       "    }\n",
       "\n",
       "    .dataframe tbody tr th {\n",
       "        vertical-align: top;\n",
       "    }\n",
       "\n",
       "    .dataframe thead th {\n",
       "        text-align: right;\n",
       "    }\n",
       "</style>\n",
       "<table border=\"1\" class=\"dataframe\">\n",
       "  <thead>\n",
       "    <tr style=\"text-align: right;\">\n",
       "      <th></th>\n",
       "      <th>sentences</th>\n",
       "      <th>tokenized_sents</th>\n",
       "    </tr>\n",
       "  </thead>\n",
       "  <tbody>\n",
       "    <tr>\n",
       "      <th>0</th>\n",
       "      <td>file</td>\n",
       "      <td>[file]</td>\n",
       "    </tr>\n",
       "  </tbody>\n",
       "</table>\n",
       "</div>"
      ],
      "text/plain": [
       "  sentences tokenized_sents\n",
       "0      file          [file]"
      ]
     },
     "execution_count": 30,
     "metadata": {},
     "output_type": "execute_result"
    }
   ],
   "source": [
    "df = pd.DataFrame({'sentences': ['file']})\n",
    "df['tokenized_sents'] = df.apply(lambda row: nltk.word_tokenize(row['sentences']), axis=1)\n"
   ]
  },
  {
   "cell_type": "code",
   "execution_count": null,
   "metadata": {},
   "outputs": [],
   "source": []
  }
 ],
 "metadata": {
  "kernelspec": {
   "display_name": "Python 3",
   "language": "python",
   "name": "python3"
  },
  "language_info": {
   "codemirror_mode": {
    "name": "ipython",
    "version": 3
   },
   "file_extension": ".py",
   "mimetype": "text/x-python",
   "name": "python",
   "nbconvert_exporter": "python",
   "pygments_lexer": "ipython3",
   "version": "3.6.5"
  }
 },
 "nbformat": 4,
 "nbformat_minor": 2
}
